{
 "cells": [
  {
   "cell_type": "markdown",
   "id": "1be63293",
   "metadata": {},
   "source": [
    "#### Importing Python libraries\n",
    "\n",
    "The next cell activates the Matplotlib plotting library and loads several useful libraries"
   ]
  },
  {
   "cell_type": "code",
   "execution_count": 1,
   "id": "c2e40d04",
   "metadata": {},
   "outputs": [],
   "source": [
    "#  displays plots directly in this notebook as images\n",
    "%matplotlib inline\n",
    "import numpy as np       # the NumPy library for fast matrix and vector data types and math operations\n",
    "from numpy import sqrt, sin, cos, pi,e, arctan\n",
    "import matplotlib.pyplot as plt   # functions for plotting, loaded under a convenient name alias 'plt'\n",
    "import scipy\n",
    "from scipy import constants\n",
    "import math\n",
    "import pandas as pd\n"
   ]
  },
  {
   "cell_type": "markdown",
   "id": "1b14caa3",
   "metadata": {},
   "source": [
    "#### CONSTANTS"
   ]
  },
  {
   "cell_type": "code",
   "execution_count": 2,
   "id": "dbd7a772",
   "metadata": {
    "scrolled": true
   },
   "outputs": [
    {
     "name": "stdout",
     "output_type": "stream",
     "text": [
      "1.698166e+13\n",
      "8.385392e+12\n",
      "1.698166e+13\n",
      "2.025148e+00\n"
     ]
    },
    {
     "data": {
      "text/plain": [
       "8385392017337.698"
      ]
     },
     "execution_count": 2,
     "metadata": {},
     "output_type": "execute_result"
    }
   ],
   "source": [
    "f=26*10**9 # частота зондирования\n",
    "f1=37*10**9\n",
    "f2=26*10**9\n",
    "R=0.34 # радиус зондируемой плазмы\n",
    "b=R+0.1 # к радиусу плазмы прибавляем размер антенны\n",
    "pi=constants.pi\n",
    "me=constants.m_e # electron mass\n",
    "c=constants.speed_of_light # speed of light in vacuum\n",
    "e0=constants.epsilon_0 # the electric constant (vacuum permittivity)\n",
    "q=constants.e  # elementary charge\n",
    "γ=3 # Степень функции\n",
    "λ=constants.nu2lambda(f) # перевод частоты в длинну волны \n",
    "ω=f*2*pi # угловая частота\n",
    "Nc=me*(pi**2)*4*(f**2)*e0*(10**-6)/(q**2)#Плотность в зависимомти от частоты\n",
    "Nc1=me*(pi**2)*4*(f1**2)*e0*(10**-6)/(q**2)\n",
    "Nc2=me*(pi**2)*4*(f2**2)*e0*(10**-6)/(q**2)\n",
    "Ncconst=me*(pi**2)*4*((37*10**9)**2)*e0*(10**-6)/(q**2)#меняем плотность расчитав для двух частот\n",
    "Nm=0.8*Ncconst#меняем плотность расчитав для двух частот\n",
    "ωm=math.sqrt(Nm*(q**2)/(me*e0))\n",
    "\n",
    "numbers = [Nc1,Nc2,Ncconst,Nc1/Nc2] # распечатать все константы в столбец (in scientific notation)                                                                                                                                                                                          \n",
    "for x1 in numbers:                                                                                                                                                                               \n",
    "    print(\"{:e}\".format(x1))\n",
    "Nc"
   ]
  },
  {
   "cell_type": "code",
   "execution_count": 3,
   "id": "f174cf6d",
   "metadata": {},
   "outputs": [
    {
     "data": {
      "text/plain": [
       "8385392017337.698"
      ]
     },
     "execution_count": 3,
     "metadata": {},
     "output_type": "execute_result"
    }
   ],
   "source": [
    "Nc"
   ]
  },
  {
   "cell_type": "markdown",
   "id": "fc9773f7",
   "metadata": {},
   "source": [
    "#### VARIABALES"
   ]
  },
  {
   "cell_type": "code",
   "execution_count": 4,
   "id": "03a7b781",
   "metadata": {},
   "outputs": [],
   "source": [
    "k=[0,1,2,3,4,5,6,7,8,9,10,11]"
   ]
  },
  {
   "cell_type": "code",
   "execution_count": null,
   "id": "fd4e3ca4",
   "metadata": {},
   "outputs": [],
   "source": []
  },
  {
   "cell_type": "code",
   "execution_count": 5,
   "id": "cd599c45",
   "metadata": {},
   "outputs": [
    {
     "data": {
      "text/plain": [
       "[0.017453292519943295,\n",
       " 0.03490658503988659,\n",
       " 0.05235987755982988,\n",
       " 0.06981317007977318,\n",
       " 0.08726646259971647,\n",
       " 0.10471975511965977,\n",
       " 0.12217304763960307,\n",
       " 0.13962634015954636,\n",
       " 0.15707963267948966,\n",
       " 0.17453292519943295,\n",
       " 0.19198621771937624,\n",
       " 0.20943951023931953]"
      ]
     },
     "execution_count": 5,
     "metadata": {},
     "output_type": "execute_result"
    }
   ],
   "source": [
    "α1=[]\n",
    "for n in range(len(k)) : \n",
    "    a1=(n+1)*pi/180\n",
    "    α1.append(a1)\n",
    "α1"
   ]
  },
  {
   "cell_type": "code",
   "execution_count": 6,
   "id": "99a2eeb9",
   "metadata": {},
   "outputs": [
    {
     "data": {
      "text/plain": [
       "[3.1190052658411087,\n",
       " 3.096413230711215,\n",
       " 3.073811880848643,\n",
       " 3.0511965087523407,\n",
       " 3.028562346170088,\n",
       " 3.005904542853022,\n",
       " 2.9832181444316714,\n",
       " 2.9604980691609493,\n",
       " 2.937739083257994,\n",
       " 2.914935774526812,\n",
       " 2.892082523926256,\n",
       " 2.869173474691636]"
      ]
     },
     "execution_count": 6,
     "metadata": {},
     "output_type": "execute_result"
    }
   ],
   "source": [
    "α2=[]\n",
    "for n in range(len(k)) : \n",
    "    if b*(math.sin(a1))<R:\n",
    "        a2=pi-math.asin(b*math.sin((n+1)*pi/180)/R)\n",
    "        α2.append(a2)\n",
    "    elif R>=b:\n",
    "        a2=math.asin(b*math.sin((n+1)*pi/180)/R)\n",
    "        α2.append(a2)\n",
    "    else:\n",
    "        α2.append(0)\n",
    "α2\n"
   ]
  },
  {
   "cell_type": "code",
   "execution_count": 7,
   "id": "d3871fbc",
   "metadata": {},
   "outputs": [
    {
     "data": {
      "text/plain": [
       "[0, 1, 2, 3, 4, 5, 6, 7, 8, 9, 10, 11]"
      ]
     },
     "execution_count": 7,
     "metadata": {},
     "output_type": "execute_result"
    }
   ],
   "source": [
    "k"
   ]
  },
  {
   "cell_type": "code",
   "execution_count": 8,
   "id": "74d307f0",
   "metadata": {},
   "outputs": [
    {
     "data": {
      "text/plain": [
       "[0.005134095228741309,\n",
       " 0.010272837838691373,\n",
       " 0.015420895181320393,\n",
       " 0.020582974757679118,\n",
       " 0.025763844819988613,\n",
       " 0.030968355617110976,\n",
       " 0.03620146151851866,\n",
       " 0.041468244269297294,\n",
       " 0.04677393765230953,\n",
       " 0.05212395386354851,\n",
       " 0.057523911944160844,\n",
       " 0.06297966865883753]"
      ]
     },
     "execution_count": 8,
     "metadata": {},
     "output_type": "execute_result"
    }
   ],
   "source": [
    "βk=[]\n",
    "for n in range(len(k)) :\n",
    "    β=pi-α1[n]-α2[n]\n",
    "    βk.append(β)\n",
    "βk"
   ]
  },
  {
   "cell_type": "code",
   "execution_count": 9,
   "id": "f1e769cc",
   "metadata": {},
   "outputs": [
    {
     "data": {
      "text/plain": [
       "[3.136458558361052,\n",
       " 3.1313198157511017,\n",
       " 3.1261717584084727,\n",
       " 3.121009678832114,\n",
       " 3.1158288087698045,\n",
       " 3.110624297972682,\n",
       " 3.1053911920712745,\n",
       " 3.100124409320496,\n",
       " 3.0948187159374836,\n",
       " 3.0894686997262446,\n",
       " 3.0840687416456323,\n",
       " 3.0786129849309556]"
      ]
     },
     "execution_count": 9,
     "metadata": {},
     "output_type": "execute_result"
    }
   ],
   "source": [
    "θk=[]\n",
    "for n in range(len(k)) :\n",
    "    θ=pi-βk[n]\n",
    "    θk.append(θ)\n",
    "θk"
   ]
  },
  {
   "cell_type": "code",
   "execution_count": 10,
   "id": "54edf182",
   "metadata": {},
   "outputs": [
    {
     "data": {
      "text/plain": [
       "[0.022587387748684604,\n",
       " 0.045179422878577964,\n",
       " 0.06778077274115027,\n",
       " 0.0903961448374523,\n",
       " 0.11303030741970509,\n",
       " 0.13568811073677073,\n",
       " 0.15837450915812173,\n",
       " 0.18109458442884366,\n",
       " 0.20385357033179918,\n",
       " 0.22665687906298146,\n",
       " 0.24951012966353708,\n",
       " 0.27241917889815703]"
      ]
     },
     "execution_count": 10,
     "metadata": {},
     "output_type": "execute_result"
    }
   ],
   "source": [
    "Φk=[]\n",
    "for n in range(len(k)) :\n",
    "    Φ=α1[n]+βk[n]\n",
    "    Φk.append(Φ)\n",
    "Φk"
   ]
  },
  {
   "cell_type": "code",
   "execution_count": null,
   "id": "4d52d559",
   "metadata": {},
   "outputs": [],
   "source": []
  },
  {
   "cell_type": "markdown",
   "id": "f96a2320",
   "metadata": {},
   "source": [
    "import sympy\n",
    "from sympy import symbols, solve\n",
    "ak=[]\n",
    "for n in range(len(k)) :\n",
    "    r0 = symbols('r0')\n",
    "    expr = 1-(Nm*(1-(r0/R)**2)/Nc)-((R**2)/(r0**2))*(math.sin(Φk[n]))**2\n",
    "    sol = solve(expr)\n",
    "    ak.append(sol)\n",
    "ak1=[]\n",
    "for i in range(len(k)) :\n",
    "    ak[i] = [n for n in ak[i] if n.is_real]\n",
    "    ak[i] = [n for n in ak[i] if n.is_positive]\n",
    "    ak1.append(ak[i])\n",
    "ak1"
   ]
  },
  {
   "cell_type": "code",
   "execution_count": 11,
   "id": "b644bcc7",
   "metadata": {},
   "outputs": [],
   "source": [
    "from scipy.optimize import fsolve\n",
    "kak=[]\n",
    "r00=0.0001 #The starting estimate for the roots of func(x) = 0.\n",
    "for n in range(len(k)) :\n",
    "    kak.append(fsolve(lambda r0: 1-(Nm*(1/(1+9*(r0/R)**γ))/Nc)-((R**2)/(r0**2))*(math.sin(Φk[n]))**2, r00))\n",
    "ak = np.array(kak, dtype=np.float32)"
   ]
  },
  {
   "cell_type": "code",
   "execution_count": 12,
   "id": "438f4903",
   "metadata": {},
   "outputs": [
    {
     "data": {
      "text/plain": [
       "array([[0.13975385],\n",
       "       [0.14083268],\n",
       "       [0.14256601],\n",
       "       [0.14487298],\n",
       "       [0.14766484],\n",
       "       [0.15085664],\n",
       "       [0.15437381],\n",
       "       [0.15815446],\n",
       "       [0.16214904],\n",
       "       [0.16631863],\n",
       "       [0.17063299],\n",
       "       [0.17506872]], dtype=float32)"
      ]
     },
     "execution_count": 12,
     "metadata": {},
     "output_type": "execute_result"
    }
   ],
   "source": [
    "ak"
   ]
  },
  {
   "cell_type": "code",
   "execution_count": null,
   "id": "1654f3f1",
   "metadata": {},
   "outputs": [],
   "source": []
  },
  {
   "cell_type": "code",
   "execution_count": null,
   "id": "4622ec61",
   "metadata": {},
   "outputs": [],
   "source": []
  },
  {
   "cell_type": "code",
   "execution_count": 13,
   "id": "5757d064",
   "metadata": {},
   "outputs": [
    {
     "name": "stderr",
     "output_type": "stream",
     "text": [
      "C:\\Users\\owner\\Anaconda3\\lib\\site-packages\\ipykernel_launcher.py:9: IntegrationWarning: The algorithm does not converge.  Roundoff error is detected\n",
      "  in the extrapolation table.  It is assumed that the requested tolerance\n",
      "  cannot be achieved, and that the returned result (if full_output = 1) is \n",
      "  the best which can be obtained.\n",
      "  if __name__ == '__main__':\n"
     ]
    },
    {
     "data": {
      "text/plain": [
       "[0.07399962682988444,\n",
       " 0.14545161650727634,\n",
       " 0.21229060730181096,\n",
       " 0.2732021437049869,\n",
       " 0.3276219963274911,\n",
       " 0.375561031041204,\n",
       " 0.41738482599467097,\n",
       " 0.4536295362641279,\n",
       " 0.4848785444675634,\n",
       " 0.5116927677826102,\n",
       " 0.5345778509880972,\n",
       " 0.5539733959911166]"
      ]
     },
     "execution_count": 13,
     "metadata": {},
     "output_type": "execute_result"
    }
   ],
   "source": [
    "#result = integrate.quad(lambda x: x**7, 2, 0), где lambda x по сути dx, x**7 - это подинтегральная функция,\n",
    "#2 - нижний придел, 0 - верхний придел интегрирования, result = integrate.quad - по сути знак интеграла (метод)\n",
    "\n",
    "\n",
    "import scipy.integrate as integrate #вызываем метод интегрирования\n",
    "import scipy.special as special\n",
    "Θk=[]\n",
    "for n in range(len(k)) :\n",
    "    Θ = integrate.quad(lambda r: R*sin(Φk[n])/(r**2*((1-(Nm*(1/(1+9*(r/R)**γ))/Nc)-((R**2)/(r**2))*(math.sin(Φk[n]))**2)**0.5)), ak[n], R)\n",
    "    Θk.append(Θ[0]) #вписываем в массив Θk только н1-е корни каждого \n",
    "Θk"
   ]
  },
  {
   "cell_type": "code",
   "execution_count": null,
   "id": "f0ca206d",
   "metadata": {},
   "outputs": [],
   "source": []
  },
  {
   "cell_type": "code",
   "execution_count": 14,
   "id": "596551d6",
   "metadata": {},
   "outputs": [
    {
     "data": {
      "text/plain": [
       "[0, 1, 2, 3, 4, 5, 6, 7, 8, 9, 10, 11]"
      ]
     },
     "execution_count": 14,
     "metadata": {},
     "output_type": "execute_result"
    }
   ],
   "source": [
    "k"
   ]
  },
  {
   "cell_type": "code",
   "execution_count": 15,
   "id": "9d59ea26",
   "metadata": {},
   "outputs": [
    {
     "data": {
      "text/plain": [
       "[2.988459304701283,\n",
       " 2.840416582736549,\n",
       " 2.701590543804851,\n",
       " 2.57460539142214,\n",
       " 2.4605848161148223,\n",
       " 2.3595022358902744,\n",
       " 2.2706215400819323,\n",
       " 2.19286533679224,\n",
       " 2.125061627002357,\n",
       " 2.066083164161024,\n",
       " 2.014913039669438,\n",
       " 1.9706661929487224]"
      ]
     },
     "execution_count": 15,
     "metadata": {},
     "output_type": "execute_result"
    }
   ],
   "source": [
    "θ2k=[]\n",
    "for n in range(len(k)) :\n",
    "    θ2=θk[n]-np.abs(Θk[n]*2)\n",
    "    θ2k.append(θ2)\n",
    "θ2k"
   ]
  },
  {
   "cell_type": "code",
   "execution_count": 16,
   "id": "0194b40e",
   "metadata": {},
   "outputs": [
    {
     "data": {
      "text/plain": [
       "0.1186790406050091"
      ]
     },
     "execution_count": 16,
     "metadata": {},
     "output_type": "execute_result"
    }
   ],
   "source": [
    "\n",
    "R1=[]\n",
    "if 1-Nc/Nm>0:\n",
    "    R1=R*(((Nc-Nm)/(9*Nm))**(1/γ))\n",
    "elif (1-Nc/Nm)<=0:\n",
    "    R1=0\n",
    "R1=abs(R1)\n",
    "R1\n"
   ]
  },
  {
   "cell_type": "code",
   "execution_count": 17,
   "id": "eeec5ec8",
   "metadata": {},
   "outputs": [
    {
     "data": {
      "text/plain": [
       "0"
      ]
     },
     "execution_count": 17,
     "metadata": {},
     "output_type": "execute_result"
    }
   ],
   "source": [
    "k[0]"
   ]
  },
  {
   "cell_type": "code",
   "execution_count": 18,
   "id": "a1f5947e",
   "metadata": {},
   "outputs": [
    {
     "name": "stderr",
     "output_type": "stream",
     "text": [
      "C:\\Users\\owner\\Anaconda3\\lib\\site-packages\\ipykernel_launcher.py:7: RuntimeWarning: invalid value encountered in sqrt\n",
      "  import sys\n",
      "C:\\Users\\owner\\Anaconda3\\lib\\site-packages\\ipykernel_launcher.py:22: RuntimeWarning: invalid value encountered in sqrt\n",
      "C:\\Users\\owner\\Anaconda3\\lib\\site-packages\\ipykernel_launcher.py:7: RuntimeWarning: invalid value encountered in sqrt\n",
      "  import sys\n",
      "C:\\Users\\owner\\Anaconda3\\lib\\site-packages\\ipykernel_launcher.py:22: RuntimeWarning: invalid value encountered in sqrt\n",
      "C:\\Users\\owner\\Anaconda3\\lib\\site-packages\\ipykernel_launcher.py:7: RuntimeWarning: invalid value encountered in sqrt\n",
      "  import sys\n",
      "C:\\Users\\owner\\Anaconda3\\lib\\site-packages\\ipykernel_launcher.py:22: RuntimeWarning: invalid value encountered in sqrt\n",
      "C:\\Users\\owner\\Anaconda3\\lib\\site-packages\\ipykernel_launcher.py:7: RuntimeWarning: invalid value encountered in sqrt\n",
      "  import sys\n",
      "C:\\Users\\owner\\Anaconda3\\lib\\site-packages\\ipykernel_launcher.py:22: RuntimeWarning: invalid value encountered in sqrt\n",
      "C:\\Users\\owner\\Anaconda3\\lib\\site-packages\\ipykernel_launcher.py:7: RuntimeWarning: invalid value encountered in sqrt\n",
      "  import sys\n",
      "C:\\Users\\owner\\Anaconda3\\lib\\site-packages\\ipykernel_launcher.py:22: RuntimeWarning: invalid value encountered in sqrt\n",
      "C:\\Users\\owner\\Anaconda3\\lib\\site-packages\\ipykernel_launcher.py:7: RuntimeWarning: invalid value encountered in sqrt\n",
      "  import sys\n",
      "C:\\Users\\owner\\Anaconda3\\lib\\site-packages\\ipykernel_launcher.py:22: RuntimeWarning: invalid value encountered in sqrt\n",
      "C:\\Users\\owner\\Anaconda3\\lib\\site-packages\\ipykernel_launcher.py:7: RuntimeWarning: invalid value encountered in sqrt\n",
      "  import sys\n",
      "C:\\Users\\owner\\Anaconda3\\lib\\site-packages\\ipykernel_launcher.py:22: RuntimeWarning: invalid value encountered in sqrt\n",
      "C:\\Users\\owner\\Anaconda3\\lib\\site-packages\\ipykernel_launcher.py:7: RuntimeWarning: invalid value encountered in sqrt\n",
      "  import sys\n",
      "C:\\Users\\owner\\Anaconda3\\lib\\site-packages\\ipykernel_launcher.py:22: RuntimeWarning: invalid value encountered in sqrt\n",
      "C:\\Users\\owner\\Anaconda3\\lib\\site-packages\\ipykernel_launcher.py:7: RuntimeWarning: invalid value encountered in sqrt\n",
      "  import sys\n",
      "C:\\Users\\owner\\Anaconda3\\lib\\site-packages\\ipykernel_launcher.py:22: RuntimeWarning: invalid value encountered in sqrt\n",
      "C:\\Users\\owner\\Anaconda3\\lib\\site-packages\\ipykernel_launcher.py:7: RuntimeWarning: invalid value encountered in sqrt\n",
      "  import sys\n",
      "C:\\Users\\owner\\Anaconda3\\lib\\site-packages\\ipykernel_launcher.py:22: RuntimeWarning: invalid value encountered in sqrt\n",
      "C:\\Users\\owner\\Anaconda3\\lib\\site-packages\\ipykernel_launcher.py:7: RuntimeWarning: invalid value encountered in sqrt\n",
      "  import sys\n",
      "C:\\Users\\owner\\Anaconda3\\lib\\site-packages\\ipykernel_launcher.py:22: RuntimeWarning: invalid value encountered in sqrt\n"
     ]
    },
    {
     "data": {
      "image/png": "[encoded data removed]",
      "text/plain": [
       "<Figure size 432x288 with 1 Axes>"
      ]
     },
     "metadata": {
      "needs_background": "light"
     },
     "output_type": "display_data"
    }
   ],
   "source": [
    "from scipy.integrate import odeint\n",
    "\n",
    "number=[0,1,2,3,4,5,6,7,8,9,10,11]\n",
    "\n",
    "for k in range(len(number)) :\n",
    "    def model(r,θ):\n",
    "        drdθ =(r**2)*((1-(Nm*(1/(1+9*(r/R)**γ))/Nc)-((R**2)/(r**2))*(math.sin(Φk[number[k]]))**2)**0.5)/(R*sin(Φk[number[k]]))\n",
    "        return drdθ\n",
    "    r0 = R  \n",
    "    θ = np.linspace(θk[number[k]],θ2k[number[k]],1000)\n",
    "    θ0=[]\n",
    "    for n in range(len(θ)) :\n",
    "            if θ[n]>=θk[number[k]]-(np.abs(Θk[number[k]]))+0.1*pi/180:\n",
    "                θ0.append(θ[n])\n",
    "                r= odeint(model,r0,θ0)\n",
    "           # else:\n",
    "                #r=0\n",
    "    r = [i[0] for i in r]\n",
    "    combined1=np.vstack((θ0,r[::])).T\n",
    "          \n",
    "    def model(r,θ):\n",
    "        drdθ =(r**2)*((1-(Nm*(1/(1+9*(r/R)**γ))/Nc)-((R**2)/(r**2))*(math.sin(Φk[number[k]]))**2)**0.5)/(R*sin(Φk[number[k]]))\n",
    "        return drdθ\n",
    "    r0 = R  \n",
    "    θ = np.linspace(θk[number[k]],θ2k[number[k]],1000)\n",
    "    θ0=[]\n",
    "    for n in range(len(θ)) :\n",
    "            if θ[n]<=θ2k[number[k]]+(np.abs(Θk[number[k]]))-0.1*pi/180:\n",
    "                θ0.append(θ[n])\n",
    "                r= odeint(model,r0,θ0)\n",
    "            #else:\n",
    "                #r=0\n",
    "    r = [i[0] for i in r]\n",
    "    combined2=np.vstack((θ0,r[::-1])).T\n",
    "\n",
    "    r=np.concatenate((combined1, combined2 ))\n",
    "#θ=np.concatenate((θ01, θ02))\n",
    "\n",
    "    #plt.plot(r[:,0],r[:,1])\n",
    "    α = np.linspace(0,pi*2,1000)\n",
    "    x=r[:,1]*cos(r[:,0])\n",
    "    y=r[:,1]*sin(r[:,0])\n",
    "    \n",
    "    #polar coordinate metod1\n",
    "    # Calculating radius\n",
    "    #RR = (x**2 + y**2)**0.5\n",
    "    # Calculating angle (theta) in radian\n",
    "    #theta = arctan(y/x)\n",
    "    # Converting theta from radian to degree\n",
    "    #theta = 180 * theta/math.pi\n",
    "    \n",
    "    #polar coordinate metod2\n",
    "    #RR = r[:,1]\n",
    "    #theta = r[:,0]\n",
    "    #fig, ax = plt.subplots(subplot_kw={'projection': 'polar'})\n",
    "    #ax.plot(theta, RR)\n",
    "    #np.savetxt(\"r polar\"+str(number[k])+\".txt\",r)\n",
    "    \n",
    "    x2=R*sin(α)\n",
    "    y2=R*cos(α)\n",
    "    x3=R1*sin(α)\n",
    "    y3=R1*cos(α)\n",
    "    for n in range(1000) :\n",
    "        if R1!=0:#не равно нулю\n",
    "            xCENTER = np.linspace(-R,-R1,1000)\n",
    "            yCENTER=α*0\n",
    "        else:\n",
    "            xCENTER = np.linspace(-R,R,1000)\n",
    "            yCENTER=α*0\n",
    "    plt.plot(x,y)\n",
    "    plt.plot(x,-y)\n",
    "    plt.plot(xCENTER,yCENTER)\n",
    "\n",
    "    combined3=np.vstack((x,y)).T\n",
    "    combined4=np.vstack((x,-y)).T\n",
    "    circles=np.vstack((x2,y2,x3,y3,xCENTER,yCENTER)).T\n",
    "    np.savetxt(\"r\"+str(number[k])+\".txt\",combined3)\n",
    "    np.savetxt(\"-r\"+str(number[k])+\".txt\",combined4)\n",
    "np.savetxt(\"circles.txt\",circles)\n",
    "plt.plot(R*sin(α),R*cos(α))\n",
    "plt.plot(R1*sin(α),R1*cos(α))\n",
    "\n",
    "    \n",
    "    \n",
    "    \n",
    "    \n",
    "    \n",
    "    \n",
    "\n",
    "    #new = pd.concat([bbb, bbb], axis=1)\n",
    "\n",
    "    #aaa= pd.read_csv(\"r\"+str(number[k+1]), delimiter=\" \")\n",
    "    #aaa.columns = [\"x\"+str(number[k+1]), \"y\"+str(number[k+1])]\n",
    "    #new = pd.concat([bbb, aaa], axis=1) \n",
    "    #print(bbb.columns = [\"x\"+str(number[k]), \"y\"+str(number[k])])\n",
    "    #fig = px.line(new, new[\"x10\"],new[\"y10\"])\n",
    "    #fig.show()\n",
    "\n",
    "#np.savetxt(\"circles\",circles)\n",
    "#plt.plot(R*sin(α),R*cos(α))\n",
    "#plt.plot(R1*sin(α),R1*cos(α))\n",
    "    \n",
    "\n",
    "#fig, ax = plt.subplots(subplot_kw={'projection': 'polar'})\n",
    "#ax.plot(r[:,0], r[:,1])\n",
    "#plt.show()\n",
    "k=[0,1,2,3,4,5,6,7,8,9,10,11]       \n",
    "\n"
   ]
  },
  {
   "cell_type": "code",
   "execution_count": 19,
   "id": "f0141481",
   "metadata": {},
   "outputs": [
    {
     "data": {
      "text/plain": [
       "0.1186790406050091"
      ]
     },
     "execution_count": 19,
     "metadata": {},
     "output_type": "execute_result"
    }
   ],
   "source": [
    "R1"
   ]
  },
  {
   "cell_type": "code",
   "execution_count": 21,
   "id": "b0bba301",
   "metadata": {},
   "outputs": [
    {
     "name": "stderr",
     "output_type": "stream",
     "text": [
      "C:\\Users\\owner\\Anaconda3\\lib\\site-packages\\ipykernel_launcher.py:32: FutureWarning: As the xlwt package is no longer maintained, the xlwt engine will be removed in a future version of pandas. This is the only engine in pandas that supports writing in the xls format. Install openpyxl and write to an xlsx file instead. You can set the option io.excel.xls.writer to 'xlwt' to silence this warning. While this option is deprecated and will also raise a warning, it can be globally set and the warning suppressed.\n"
     ]
    }
   ],
   "source": [
    "#ВЫВОД РЕЗУЛЬТАТОВ В 1 файл\n",
    "bbb0 = pd.read_csv(\"r0.txt\", delimiter=\" \")\n",
    "bbb1 = pd.read_csv(\"r1.txt\", delimiter=\" \")\n",
    "bbb2 = pd.read_csv(\"r2.txt\", delimiter=\" \")\n",
    "bbb3 = pd.read_csv(\"r3.txt\", delimiter=\" \")\n",
    "bbb4 = pd.read_csv(\"r4.txt\", delimiter=\" \")\n",
    "bbb5 = pd.read_csv(\"r5.txt\", delimiter=\" \")\n",
    "bbb6 = pd.read_csv(\"r6.txt\", delimiter=\" \")\n",
    "bbb7 = pd.read_csv(\"r7.txt\", delimiter=\" \")\n",
    "bbb8 = pd.read_csv(\"r8.txt\", delimiter=\" \")\n",
    "bbb9 = pd.read_csv(\"r9.txt\", delimiter=\" \")\n",
    "bbb10 = pd.read_csv(\"r10.txt\", delimiter=\" \")\n",
    "bbb11 = pd.read_csv(\"r11.txt\", delimiter=\" \")\n",
    "#bbb12 = pd.read_csv(\"r12.txt\", delimiter=\" \")\n",
    "bbb13 = pd.read_csv(\"-r0.txt\", delimiter=\" \")\n",
    "bbb14 = pd.read_csv(\"-r1.txt\", delimiter=\" \")\n",
    "bbb15 = pd.read_csv(\"-r2.txt\", delimiter=\" \")\n",
    "bbb16 = pd.read_csv(\"-r3.txt\", delimiter=\" \")\n",
    "bbb17 = pd.read_csv(\"-r4.txt\", delimiter=\" \")\n",
    "bbb18 = pd.read_csv(\"-r5.txt\", delimiter=\" \")\n",
    "bbb19 = pd.read_csv(\"-r6.txt\", delimiter=\" \")\n",
    "bbb20 = pd.read_csv(\"-r7.txt\", delimiter=\" \")\n",
    "bbb21 = pd.read_csv(\"-r8.txt\", delimiter=\" \")\n",
    "bbb22 = pd.read_csv(\"-r9.txt\", delimiter=\" \")\n",
    "bbb23 = pd.read_csv(\"-r10.txt\", delimiter=\" \")\n",
    "bbb24 = pd.read_csv(\"-r11.txt\", delimiter=\" \")\n",
    "\n",
    "circles = pd.read_csv(\"circles.txt\", delimiter=\" \")\n",
    "\n",
    "bbb = pd.concat([circles, bbb0, bbb1, bbb2, bbb3, bbb4, bbb5, bbb6, bbb7, bbb8, bbb9, bbb10, bbb11, bbb13, bbb14, bbb15, bbb16, bbb17, bbb18, bbb19, bbb20, bbb21, bbb22, bbb23, bbb24], axis=1) \n",
    "#bbb.columns = [\"Rx\",\"Ry\",\"R1x\",\"R1y\",\"x0\", \"y0\",\"x1\", \"y1\",\"x2\", \"y2\",\"x3\", \"y3\",\"x4\", \"y4\",\"x5\", \"y5\",\"x6\", \"y6\",\"x7\", \"y7\", \"x8\",\"y8\", \"x9\",\"y9\", \"x10\",\"y10\", \"x11\",\"y11\"]\n",
    "bbb.to_excel('raw_data1.xls', index=False)\n"
   ]
  },
  {
   "cell_type": "markdown",
   "id": "41c54ca6",
   "metadata": {},
   "source": [
    "from scipy.integrate import odeint\n",
    "\n",
    "number=[0,1,2,3,4,5,6,7,8,9,10,11]\n",
    "\n",
    "for k in range(len(number)) :\n",
    "    def model(r,θ):\n",
    "        drdθ =(r**2)*((1-(Nm*(1-(r/R)**γ)/Nc)-((R**2)/(r**2))*(math.sin(Φk[number[k]]))**2)**0.5)/(R*sin(Φk[number[k]]))\n",
    "        return drdθ\n",
    "    r0 = R  \n",
    "    θ = np.linspace(θk[number[k]],θ2k[number[k]],1000)\n",
    "    θ0=[]\n",
    "    for n in range(len(θ)) :\n",
    "            if θ[n]>=θk[number[k]]-(np.abs(Θk[number[k]]))+0.1*pi/180:\n",
    "                θ0.append(θ[n])\n",
    "                r= odeint(model,r0,θ0)\n",
    "           # else:\n",
    "                #r=0\n",
    "    r = [i[0] for i in r]\n",
    "    combined1=np.vstack((θ0,r[::])).T\n",
    "          \n",
    "    def model(r,θ):\n",
    "        drdθ =(r**2)*((1-(Nm*(1-(r/R)**γ)/Nc)-((R**2)/(r**2))*(math.sin(Φk[number[k]]))**2)**0.5)/(R*sin(Φk[number[k]]))\n",
    "        return drdθ\n",
    "    r0 = R  \n",
    "    θ = np.linspace(θk[number[k]],θ2k[number[k]],1000)\n",
    "    θ0=[]\n",
    "    for n in range(len(θ)) :\n",
    "            if θ[n]<=θ2k[number[k]]+(np.abs(Θk[number[k]]))-0.1*pi/180:\n",
    "                θ0.append(θ[n])\n",
    "                r= odeint(model,r0,θ0)\n",
    "            #else:\n",
    "                #r=0\n",
    "    r = [i[0] for i in r]\n",
    "    combined2=np.vstack((θ0,r[::-1])).T\n",
    "\n",
    "    r=np.concatenate((combined1, combined2 ))\n",
    "#θ=np.concatenate((θ01, θ02))\n",
    "\n",
    "    #plt.plot(r[:,0],r[:,1])\n",
    "    α = np.linspace(0,pi*2,1000)\n",
    "    x=r[:,1]*cos(r[:,0])\n",
    "    y=r[:,1]*sin(r[:,0])\n",
    "    \n",
    "    #polar coordinate metod1\n",
    "    # Calculating radius\n",
    "    #RR = (x**2 + y**2)**0.5\n",
    "    # Calculating angle (theta) in radian\n",
    "    #theta = arctan(y/x)\n",
    "    # Converting theta from radian to degree\n",
    "    #theta = 180 * theta/math.pi\n",
    "    \n",
    "    #polar coordinate metod2\n",
    "    RR = r[:,1]\n",
    "    theta = r[:,0]\n",
    "    fig, ax = plt.subplots(subplot_kw={'projection': 'polar'})\n",
    "    ax.plot(theta, RR)\n",
    "    np.savetxt(\"r polar\"+str(number[k])+\".txt\",r)\n",
    "    \n",
    "    x2=R*sin(α)\n",
    "    y2=R*cos(α)\n",
    "    x3=R1*sin(α)\n",
    "    y3=R1*cos(α)\n",
    "    #plt.plot(x,y)\n",
    "    combined3=np.vstack((x,y)).T\n",
    "    circles=np.vstack((x2,y2,x3,y3)).T\n",
    "    np.savetxt(\"r\"+str(number[k])+\".txt\",combined3)\n",
    "np.savetxt(\"circles.txt\",circles)\n",
    "#plt.plot(R*sin(α),R*cos(α))\n",
    "#plt.plot(R1*sin(α),R1*cos(α))\n",
    "\n",
    "    \n",
    "    \n",
    "    \n",
    "    \n",
    "    \n",
    "    \n",
    "\n",
    "    #new = pd.concat([bbb, bbb], axis=1)\n",
    "\n",
    "    #aaa= pd.read_csv(\"r\"+str(number[k+1]), delimiter=\" \")\n",
    "    #aaa.columns = [\"x\"+str(number[k+1]), \"y\"+str(number[k+1])]\n",
    "    #new = pd.concat([bbb, aaa], axis=1) \n",
    "    #print(bbb.columns = [\"x\"+str(number[k]), \"y\"+str(number[k])])\n",
    "    #fig = px.line(new, new[\"x10\"],new[\"y10\"])\n",
    "    #fig.show()\n",
    "\n",
    "#np.savetxt(\"circles\",circles)\n",
    "#plt.plot(R*sin(α),R*cos(α))\n",
    "#plt.plot(R1*sin(α),R1*cos(α))\n",
    "    \n",
    "\n",
    "#fig, ax = plt.subplots(subplot_kw={'projection': 'polar'})\n",
    "#ax.plot(r[:,0], r[:,1])\n",
    "#plt.show()\n",
    "k=[0,1,2,3,4,5,6,7,8,9,10,11]       "
   ]
  },
  {
   "cell_type": "code",
   "execution_count": null,
   "id": "b2efbe13",
   "metadata": {},
   "outputs": [],
   "source": []
  },
  {
   "cell_type": "code",
   "execution_count": null,
   "id": "07f75069",
   "metadata": {},
   "outputs": [],
   "source": []
  },
  {
   "cell_type": "code",
   "execution_count": null,
   "id": "0e3ab1ac",
   "metadata": {},
   "outputs": [],
   "source": []
  },
  {
   "cell_type": "code",
   "execution_count": null,
   "id": "08ee4bf5",
   "metadata": {},
   "outputs": [],
   "source": [
    "\n"
   ]
  },
  {
   "cell_type": "markdown",
   "id": "3f8f5a94",
   "metadata": {},
   "source": []
  },
  {
   "cell_type": "code",
   "execution_count": null,
   "id": "a449685c",
   "metadata": {},
   "outputs": [],
   "source": []
  },
  {
   "cell_type": "code",
   "execution_count": null,
   "id": "eaab73d5",
   "metadata": {},
   "outputs": [],
   "source": []
  },
  {
   "cell_type": "code",
   "execution_count": null,
   "id": "1e7f8c47",
   "metadata": {},
   "outputs": [],
   "source": []
  },
  {
   "cell_type": "code",
   "execution_count": null,
   "id": "f2bae6f3",
   "metadata": {},
   "outputs": [],
   "source": []
  },
  {
   "cell_type": "code",
   "execution_count": null,
   "id": "7d3c1854",
   "metadata": {},
   "outputs": [],
   "source": []
  },
  {
   "cell_type": "code",
   "execution_count": null,
   "id": "82f994ae",
   "metadata": {},
   "outputs": [],
   "source": []
  }
 ],
 "metadata": {
  "kernelspec": {
   "display_name": "Python 3 (ipykernel)",
   "language": "python",
   "name": "python3"
  },
  "language_info": {
   "codemirror_mode": {
    "name": "ipython",
    "version": 3
   },
   "file_extension": ".py",
   "mimetype": "text/x-python",
   "name": "python",
   "nbconvert_exporter": "python",
   "pygments_lexer": "ipython3",
   "version": "3.7.3"
  }
 },
 "nbformat": 4,
 "nbformat_minor": 5
}
