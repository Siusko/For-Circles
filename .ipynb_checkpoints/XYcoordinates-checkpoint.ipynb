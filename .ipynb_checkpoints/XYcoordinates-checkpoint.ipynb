{
 "cells": [
  {
   "cell_type": "markdown",
   "id": "1be63293",
   "metadata": {},
   "source": [
    "#### Importing Python libraries\n",
    "\n",
    "The next cell activates the Matplotlib plotting library and loads several useful libraries"
   ]
  },
  {
   "cell_type": "code",
   "execution_count": 1,
   "id": "c2e40d04",
   "metadata": {},
   "outputs": [],
   "source": [
    "#  displays plots directly in this notebook as images\n",
    "%matplotlib inline\n",
    "import numpy as np       # the NumPy library for fast matrix and vector data types and math operations\n",
    "from numpy import sqrt, sin, cos, pi \n",
    "import matplotlib.pyplot as plt   # functions for plotting, loaded under a convenient name alias 'plt'\n",
    "import scipy\n",
    "from scipy import constants\n",
    "import math"
   ]
  },
  {
   "cell_type": "markdown",
   "id": "1b14caa3",
   "metadata": {},
   "source": [
    "#### CONSTANTS"
   ]
  },
  {
   "cell_type": "code",
   "execution_count": 2,
   "id": "dbd7a772",
   "metadata": {
    "scrolled": true
   },
   "outputs": [],
   "source": [
    "f=37.5*10**9 # частота зондирования\n",
    "R=0.1 # радиус зондируемой плазмы\n",
    "b=2*R # максимальный радиус плазмы\n",
    "pi=constants.pi\n",
    "me=constants.m_e # electron mass\n",
    "c=constants.speed_of_light # speed of light in vacuum\n",
    "e0=constants.epsilon_0 # the electric constant (vacuum permittivity)\n",
    "q=constants.e  # elementary charge\n",
    "γ=2 # некая вспомогательная костанта\n",
    "λ=constants.nu2lambda(f) # перевод частоты в длинну волны \n",
    "ω=f*2*pi # угловая частота\n",
    "Nc=me*(pi**2)*4*(f**2)*e0*(10**-6)/(q**2)\n",
    "Nm=Nc/0.5\n",
    "ωm=math.sqrt(Nm*(q**2)/(me*e0))\n",
    "\n",
    "#numbers = [f,R,b,f,me,c,e0,q,gama,λ,ω,Nc,Nm,ωm] # распечатать все константы в столбец (in scientific notation)                                                                                                                                                                                          \n",
    "#for x in numbers:                                                                                                                                                                               \n",
    "#print(\"{:e}\".format(x))"
   ]
  },
  {
   "cell_type": "markdown",
   "id": "fc9773f7",
   "metadata": {},
   "source": [
    "#### VARIABALES"
   ]
  },
  {
   "cell_type": "code",
   "execution_count": 3,
   "id": "03a7b781",
   "metadata": {},
   "outputs": [
    {
     "data": {
      "text/plain": [
       "[1, 2, 3, 4, 5, 6, 7, 8, 9, 10, 11, 12]"
      ]
     },
     "execution_count": 3,
     "metadata": {},
     "output_type": "execute_result"
    }
   ],
   "source": [
    "k=list(range(1,13,1)) # создает массив от 1 до 12\n",
    "k"
   ]
  },
  {
   "cell_type": "code",
   "execution_count": 4,
   "id": "cd599c45",
   "metadata": {},
   "outputs": [
    {
     "data": {
      "text/plain": [
       "[0.017453292519943295,\n",
       " 0.03490658503988659,\n",
       " 0.05235987755982988,\n",
       " 0.06981317007977318,\n",
       " 0.08726646259971647,\n",
       " 0.10471975511965977,\n",
       " 0.12217304763960307,\n",
       " 0.13962634015954636,\n",
       " 0.15707963267948966,\n",
       " 0.17453292519943295,\n",
       " 0.19198621771937624,\n",
       " 0.20943951023931953]"
      ]
     },
     "execution_count": 4,
     "metadata": {},
     "output_type": "execute_result"
    }
   ],
   "source": [
    "α1=[]\n",
    "for n in range(len(k)) : \n",
    "    a1=(n+1)*pi/180\n",
    "    α1.append(a1)\n",
    "α1"
   ]
  },
  {
   "cell_type": "code",
   "execution_count": 5,
   "id": "99a2eeb9",
   "metadata": {},
   "outputs": [
    {
     "data": {
      "text/plain": [
       "[3.106687769837941,\n",
       " 3.0717930934162325,\n",
       " 3.0369188296640357,\n",
       " 3.0020751799370475,\n",
       " 2.967272339610168,\n",
       " 2.932520496074035,\n",
       " 2.8978298267231417,\n",
       " 2.8632104969334735,\n",
       " 2.828672658027625,\n",
       " 2.7942264452254055,\n",
       " 2.759881975577971,\n",
       " 2.725649345883569]"
      ]
     },
     "execution_count": 5,
     "metadata": {},
     "output_type": "execute_result"
    }
   ],
   "source": [
    "α2=[]\n",
    "for n in range(len(k)) : \n",
    "    if b*(math.sin(a1))<R:\n",
    "        a2=(pi-math.asin(b*math.sin((n+1)*pi/180))/R)\n",
    "        α2.append(a2)\n",
    "    elif b<=R:\n",
    "        a2=n*3\n",
    "        α2.append(a2)\n",
    "    else:\n",
    "        a2=n*0\n",
    "        α2.append(a2)\n",
    "α2\n"
   ]
  },
  {
   "cell_type": "code",
   "execution_count": 6,
   "id": "74d307f0",
   "metadata": {},
   "outputs": [
    {
     "data": {
      "text/plain": [
       "[0.01745159123190909,\n",
       " 0.034892975133673954,\n",
       " 0.05231394636592768,\n",
       " 0.0697043035729723,\n",
       " 0.08705385137990884,\n",
       " 0.10435240239609822,\n",
       " 0.12158977922704839,\n",
       " 0.13875581649677304,\n",
       " 0.15584036288267855,\n",
       " 0.17283328316495483,\n",
       " 0.18972446029244594,\n",
       " 0.20650379746690462]"
      ]
     },
     "execution_count": 6,
     "metadata": {},
     "output_type": "execute_result"
    }
   ],
   "source": [
    "βk=[]\n",
    "for n in range(len(k)) :\n",
    "    β=pi-α1[n]-α2[n]\n",
    "    βk.append(β)\n",
    "βk"
   ]
  },
  {
   "cell_type": "code",
   "execution_count": 7,
   "id": "f1e769cc",
   "metadata": {},
   "outputs": [
    {
     "data": {
      "text/plain": [
       "[3.124141062357884,\n",
       " 3.106699678456119,\n",
       " 3.0892787072238654,\n",
       " 3.071888350016821,\n",
       " 3.0545388022098843,\n",
       " 3.037240251193695,\n",
       " 3.0200028743627447,\n",
       " 3.00283683709302,\n",
       " 2.9857522907071146,\n",
       " 2.9687593704248383,\n",
       " 2.951868193297347,\n",
       " 2.9350888561228885]"
      ]
     },
     "execution_count": 7,
     "metadata": {},
     "output_type": "execute_result"
    }
   ],
   "source": [
    "θk=[]\n",
    "for n in range(len(k)) :\n",
    "    θ=pi-βk[n]\n",
    "    θk.append(θ)\n",
    "θk"
   ]
  },
  {
   "cell_type": "code",
   "execution_count": 8,
   "id": "54edf182",
   "metadata": {},
   "outputs": [
    {
     "data": {
      "text/plain": [
       "[0.034904883751852384,\n",
       " 0.06979956017356054,\n",
       " 0.10467382392575755,\n",
       " 0.13951747365274547,\n",
       " 0.17432031397962533,\n",
       " 0.20907215751575797,\n",
       " 0.24376282686665146,\n",
       " 0.2783821566563194,\n",
       " 0.3129199955621682,\n",
       " 0.3473662083643878,\n",
       " 0.3817106780118222,\n",
       " 0.4159433077062241]"
      ]
     },
     "execution_count": 8,
     "metadata": {},
     "output_type": "execute_result"
    }
   ],
   "source": [
    "Φk=[]\n",
    "for n in range(len(k)) :\n",
    "    Φ=α1[n]+βk[n]\n",
    "    Φk.append(Φ)\n",
    "Φk"
   ]
  },
  {
   "cell_type": "code",
   "execution_count": 9,
   "id": "a7ba7788",
   "metadata": {},
   "outputs": [],
   "source": [
    "import sympy\n",
    "from sympy import symbols, solve\n",
    "ak=[]\n",
    "for n in range(len(k)) :\n",
    "    r0 = symbols('r0')\n",
    "    expr = 1-(Nm*(1-(r0/R)**γ)/Nc)-((R**2)/(r0**2))*(math.sin(Φk[n]))**2\n",
    "    sol = solve(expr)\n",
    "    ak.append(sol)\n"
   ]
  },
  {
   "cell_type": "code",
   "execution_count": 10,
   "id": "de8b7bae",
   "metadata": {},
   "outputs": [],
   "source": [
    "ak1=[]\n",
    "for i in range(len(k)) :\n",
    "    ak[i] = [n for n in ak[i] if n.is_real]\n",
    "    ak[i] = [n for n in ak[i] if n.is_positive]\n",
    "    ak1.append(ak[i])"
   ]
  },
  {
   "cell_type": "code",
   "execution_count": 11,
   "id": "438f4903",
   "metadata": {},
   "outputs": [
    {
     "data": {
      "text/plain": [
       "array([[0.07079653],\n",
       "       [0.07105052],\n",
       "       [0.07146245],\n",
       "       [0.07201694],\n",
       "       [0.07269532],\n",
       "       [0.07347754],\n",
       "       [0.07434369],\n",
       "       [0.07527515],\n",
       "       [0.07625515],\n",
       "       [0.07726902],\n",
       "       [0.07830419],\n",
       "       [0.0793501 ]], dtype=float32)"
      ]
     },
     "execution_count": 11,
     "metadata": {},
     "output_type": "execute_result"
    }
   ],
   "source": [
    "a = np.array(ak1, dtype=np.float32)\n",
    "a "
   ]
  },
  {
   "cell_type": "code",
   "execution_count": 12,
   "id": "1654f3f1",
   "metadata": {},
   "outputs": [],
   "source": [
    "r0=1"
   ]
  },
  {
   "cell_type": "code",
   "execution_count": 13,
   "id": "4622ec61",
   "metadata": {},
   "outputs": [],
   "source": [
    "# Задать функцию f(x) \n",
    "#fresalts=[]\n",
    "#for i in range(len(k)) :\n",
    "    #def f(x):\n",
    "       # return (1-(Nm*(1-(x/R)**γ)/Nc)-((R**2)/(x**2))*(math.sin(Φk[i]))**2)\n",
    "   # fresalts.append(f(i+1))\n",
    "#fresalts"
   ]
  },
  {
   "cell_type": "code",
   "execution_count": 15,
   "id": "396b26ca",
   "metadata": {},
   "outputs": [
    {
     "data": {
      "text/plain": [
       "[0.03473580690586297,\n",
       " 0.06847149826809767,\n",
       " 0.1003223657540058,\n",
       " 0.1296030603146871,\n",
       " 0.15586417822505766,\n",
       " 0.17880684784983378,\n",
       " 0.1986270568045845,\n",
       " 0.21519920879145088,\n",
       " 0.22879296362885235,\n",
       " 0.23953943685764387,\n",
       " 0.24803113630680526,\n",
       " 0.25410729435734647]"
      ]
     },
     "execution_count": 15,
     "metadata": {},
     "output_type": "execute_result"
    }
   ],
   "source": [
    "#result = integrate.quad(lambda x: x**7, 2, 0), где lambda x по сути dx, x**7 - это подинтегральная функция,\n",
    "#2 - нижний придел, 0 - верхний придел интегрирования, result = integrate.quad - по сути знак интеграла (метод)\n",
    "import scipy.integrate as integrate #вызываем метод интегрирования\n",
    "import scipy.special as special\n",
    "Θk=[]\n",
    "for i in range(len(k)) :\n",
    "    Θ = integrate.quad(lambda x: R*sin(Φk[i])/(x**2*((1-(Nm*(1-(x/R)**γ)/Nc)-((R**2)/(x**2))*(math.sin(Φk[i]))**2)**0.5)), a[i], R)\n",
    "    Θk.append(Θ[0]) #вписываем в массив Θk только н1-е корни каждого \n",
    "Θk"
   ]
  },
  {
   "cell_type": "code",
   "execution_count": null,
   "id": "9d59ea26",
   "metadata": {},
   "outputs": [],
   "source": []
  },
  {
   "cell_type": "code",
   "execution_count": null,
   "id": "9a14f50e",
   "metadata": {},
   "outputs": [],
   "source": [
    "\n"
   ]
  },
  {
   "cell_type": "code",
   "execution_count": null,
   "id": "d2a17a58",
   "metadata": {},
   "outputs": [],
   "source": []
  },
  {
   "cell_type": "code",
   "execution_count": null,
   "id": "face9dd4",
   "metadata": {},
   "outputs": [],
   "source": []
  },
  {
   "cell_type": "code",
   "execution_count": null,
   "id": "fff69ecb",
   "metadata": {},
   "outputs": [],
   "source": []
  },
  {
   "cell_type": "code",
   "execution_count": null,
   "id": "9a2f58eb",
   "metadata": {},
   "outputs": [],
   "source": []
  },
  {
   "cell_type": "code",
   "execution_count": null,
   "id": "23b21c1a",
   "metadata": {},
   "outputs": [],
   "source": []
  },
  {
   "cell_type": "code",
   "execution_count": null,
   "id": "c4f9fd3c",
   "metadata": {},
   "outputs": [],
   "source": []
  },
  {
   "cell_type": "code",
   "execution_count": null,
   "id": "1d19bda9",
   "metadata": {},
   "outputs": [],
   "source": []
  },
  {
   "cell_type": "code",
   "execution_count": null,
   "id": "a1f5947e",
   "metadata": {},
   "outputs": [],
   "source": []
  },
  {
   "cell_type": "code",
   "execution_count": null,
   "id": "29d4201d",
   "metadata": {},
   "outputs": [],
   "source": []
  },
  {
   "cell_type": "code",
   "execution_count": null,
   "id": "72ac2d2d",
   "metadata": {},
   "outputs": [],
   "source": []
  },
  {
   "cell_type": "code",
   "execution_count": null,
   "id": "256fd76a",
   "metadata": {},
   "outputs": [],
   "source": []
  },
  {
   "cell_type": "code",
   "execution_count": null,
   "id": "e21ffb01",
   "metadata": {},
   "outputs": [],
   "source": []
  },
  {
   "cell_type": "code",
   "execution_count": null,
   "id": "357abfe7",
   "metadata": {},
   "outputs": [],
   "source": []
  },
  {
   "cell_type": "code",
   "execution_count": null,
   "id": "844a3cdb",
   "metadata": {},
   "outputs": [],
   "source": []
  }
 ],
 "metadata": {
  "kernelspec": {
   "display_name": "Python 3 (ipykernel)",
   "language": "python",
   "name": "python3"
  },
  "language_info": {
   "codemirror_mode": {
    "name": "ipython",
    "version": 3
   },
   "file_extension": ".py",
   "mimetype": "text/x-python",
   "name": "python",
   "nbconvert_exporter": "python",
   "pygments_lexer": "ipython3",
   "version": "3.9.7"
  }
 },
 "nbformat": 4,
 "nbformat_minor": 5
}
