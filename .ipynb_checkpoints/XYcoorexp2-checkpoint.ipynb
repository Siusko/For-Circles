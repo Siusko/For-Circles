{
 "cells": [
  {
   "cell_type": "markdown",
   "id": "1be63293",
   "metadata": {},
   "source": [
    "#### Importing Python libraries\n",
    "\n",
    "The next cell activates the Matplotlib plotting library and loads several useful libraries"
   ]
  },
  {
   "cell_type": "code",
   "execution_count": 1,
   "id": "c2e40d04",
   "metadata": {},
   "outputs": [],
   "source": [
    "#  displays plots directly in this notebook as images\n",
    "%matplotlib inline\n",
    "import numpy as np       # the NumPy library for fast matrix and vector data types and math operations\n",
    "from numpy import sqrt, sin, cos, pi\n",
    "import matplotlib.pyplot as plt   # functions for plotting, loaded under a convenient name alias 'plt'\n",
    "import scipy\n",
    "from scipy import constants\n",
    "import math"
   ]
  },
  {
   "cell_type": "markdown",
   "id": "1b14caa3",
   "metadata": {},
   "source": [
    "#### CONSTANTS"
   ]
  },
  {
   "cell_type": "code",
   "execution_count": 2,
   "id": "dbd7a772",
   "metadata": {
    "scrolled": true
   },
   "outputs": [],
   "source": [
    "f=37.5*10**9 # частота зондирования\n",
    "R=0.1 # радиус зондируемой плазмы\n",
    "b=2*R # максимальный радиус плазмы\n",
    "pi=constants.pi\n",
    "me=constants.m_e # electron mass\n",
    "c=constants.speed_of_light # speed of light in vacuum\n",
    "e0=constants.epsilon_0 # the electric constant (vacuum permittivity)\n",
    "q=constants.e  # elementary charge\n",
    "γ=2 # некая вспомогательная костанта\n",
    "λ=constants.nu2lambda(f) # перевод частоты в длинну волны \n",
    "ω=f*2*pi # угловая частота\n",
    "Nc=me*(pi**2)*4*(f**2)*e0*(10**-6)/(q**2)\n",
    "Nm=Nc/0.5\n",
    "ωm=math.sqrt(Nm*(q**2)/(me*e0))\n",
    "\n",
    "numbers = [f,R,b,f,me,c,e0,q,γ,λ,ω,Nc,Nm,ωm] # распечатать все константы в столбец (in scientific notation)                                                                                                                                                                                          \n",
    "#for x1 in numbers:                                                                                                                                                                               \n",
    "    #print(\"{:e}\".format(x1))"
   ]
  },
  {
   "cell_type": "markdown",
   "id": "fc9773f7",
   "metadata": {},
   "source": [
    "#### VARIABALES"
   ]
  },
  {
   "cell_type": "code",
   "execution_count": 3,
   "id": "03a7b781",
   "metadata": {},
   "outputs": [],
   "source": [
    "k=list(range(1,13,1)) # создает массив от 1 до 12\n",
    "#k"
   ]
  },
  {
   "cell_type": "code",
   "execution_count": 4,
   "id": "cd599c45",
   "metadata": {},
   "outputs": [],
   "source": [
    "α1=[]\n",
    "for n in range(len(k)) : \n",
    "    a1=(n+1)*pi/180\n",
    "    α1.append(a1)\n",
    "#α1"
   ]
  },
  {
   "cell_type": "code",
   "execution_count": 5,
   "id": "99a2eeb9",
   "metadata": {},
   "outputs": [],
   "source": [
    "α2=[]\n",
    "for n in range(len(k)) : \n",
    "    if b*(math.sin(a1))<R:\n",
    "        a2=(pi-math.asin(b*math.sin((n+1)*pi/180))/R)\n",
    "        α2.append(a2)\n",
    "    elif b<=R:\n",
    "        a2=n*3\n",
    "        α2.append(a2)\n",
    "    else:\n",
    "        a2=n*0\n",
    "        α2.append(a2)\n",
    "#α2\n"
   ]
  },
  {
   "cell_type": "code",
   "execution_count": 6,
   "id": "74d307f0",
   "metadata": {},
   "outputs": [],
   "source": [
    "βk=[]\n",
    "for n in range(len(k)) :\n",
    "    β=pi-α1[n]-α2[n]\n",
    "    βk.append(β)\n",
    "#βk"
   ]
  },
  {
   "cell_type": "code",
   "execution_count": 7,
   "id": "f1e769cc",
   "metadata": {},
   "outputs": [],
   "source": [
    "θk=[]\n",
    "for n in range(len(k)) :\n",
    "    θ=pi-βk[n]\n",
    "    θk.append(θ)\n",
    "#θk"
   ]
  },
  {
   "cell_type": "code",
   "execution_count": 8,
   "id": "54edf182",
   "metadata": {},
   "outputs": [],
   "source": [
    "Φk=[]\n",
    "for n in range(len(k)) :\n",
    "    Φ=α1[n]+βk[n]\n",
    "    Φk.append(Φ)\n",
    "#Φk"
   ]
  },
  {
   "cell_type": "code",
   "execution_count": 9,
   "id": "a7ba7788",
   "metadata": {},
   "outputs": [],
   "source": [
    "import sympy\n",
    "from sympy import symbols, solve\n",
    "ak=[]\n",
    "for n in range(len(k)) :\n",
    "    r0 = symbols('r0')\n",
    "    expr = 1-(Nm*(1-(r0/R)**γ)/Nc)-((R**2)/(r0**2))*(math.sin(Φk[n]))**2\n",
    "    sol = solve(expr)\n",
    "    ak.append(sol)\n"
   ]
  },
  {
   "cell_type": "code",
   "execution_count": 10,
   "id": "de8b7bae",
   "metadata": {},
   "outputs": [],
   "source": [
    "ak1=[]\n",
    "for i in range(len(k)) :\n",
    "    ak[i] = [n for n in ak[i] if n.is_real]\n",
    "    ak[i] = [n for n in ak[i] if n.is_positive]\n",
    "    ak1.append(ak[i])"
   ]
  },
  {
   "cell_type": "code",
   "execution_count": 11,
   "id": "438f4903",
   "metadata": {},
   "outputs": [],
   "source": [
    "a = np.array(ak1, dtype=np.float32)\n",
    "#a "
   ]
  },
  {
   "cell_type": "code",
   "execution_count": 12,
   "id": "1654f3f1",
   "metadata": {},
   "outputs": [],
   "source": [
    "r0=R"
   ]
  },
  {
   "cell_type": "code",
   "execution_count": 13,
   "id": "4622ec61",
   "metadata": {},
   "outputs": [],
   "source": [
    "# Задать функцию f(r) \n",
    "fresalts=[]\n",
    "for i in range(len(k)) :\n",
    "    def f(r):\n",
    "        return (1-(Nm*(1-(r/R)**γ)/Nc)-((R**2)/(r**2))*(math.sin(Φk[i]))**2)\n",
    "    fresalts.append(f(i+1))\n",
    "#fresalts"
   ]
  },
  {
   "cell_type": "code",
   "execution_count": 14,
   "id": "396b26ca",
   "metadata": {},
   "outputs": [
    {
     "name": "stderr",
     "output_type": "stream",
     "text": [
      "C:\\anaconda\\lib\\site-packages\\scipy\\integrate\\quadpack.py:463: ComplexWarning: Casting complex values to real discards the imaginary part\n",
      "  return _quadpack._qagse(func,a,b,args,full_output,epsabs,epsrel,limit)\n"
     ]
    },
    {
     "data": {
      "text/plain": [
       "(0.25410729435734647, 1.0045476463994595e-09)"
      ]
     },
     "execution_count": 14,
     "metadata": {},
     "output_type": "execute_result"
    }
   ],
   "source": [
    "#result = integrate.quad(lambda x: x**7, 2, 0), где lambda x по сути dx, x**7 - это подинтегральная функция,\n",
    "#2 - нижний придел, 0 - верхний придел интегрирования, result = integrate.quad - по сути знак интеграла (метод)\n",
    "import scipy.integrate as integrate #вызываем метод интегрирования\n",
    "import scipy.special as special\n",
    "Θk=[]\n",
    "for i in range(len(k)) :\n",
    "    Θ = integrate.quad(lambda r: R*sin(Φk[i])/(r**2*(f(r)**0.5)), a[i], R)\n",
    "    Θk.append(Θ[0]) #вписываем в массив Θk только н1-е корни каждого \n",
    "Θ"
   ]
  },
  {
   "cell_type": "code",
   "execution_count": null,
   "id": "596551d6",
   "metadata": {},
   "outputs": [],
   "source": []
  },
  {
   "cell_type": "code",
   "execution_count": 15,
   "id": "9d59ea26",
   "metadata": {},
   "outputs": [
    {
     "data": {
      "text/plain": [
       "[3.054669448546158,\n",
       " 2.969756681919924,\n",
       " 2.888633975715854,\n",
       " 2.8126822293874465,\n",
       " 2.742810445759769,\n",
       " 2.6796265554940275,\n",
       " 2.6227487607535758,\n",
       " 2.572438419510118,\n",
       " 2.52816636344941,\n",
       " 2.4896804967095507,\n",
       " 2.4558059206837366,\n",
       " 2.426874267408196]"
      ]
     },
     "execution_count": 15,
     "metadata": {},
     "output_type": "execute_result"
    }
   ],
   "source": [
    "θ2k=[]\n",
    "for n in range(len(k)) :\n",
    "    θ2=θk[n]-np.abs(Θk[n]*2)\n",
    "    θ2k.append(θ2)\n",
    "θ2k"
   ]
  },
  {
   "cell_type": "code",
   "execution_count": null,
   "id": "b5cd68f9",
   "metadata": {},
   "outputs": [],
   "source": []
  },
  {
   "cell_type": "code",
   "execution_count": 17,
   "id": "edc19c3a",
   "metadata": {},
   "outputs": [],
   "source": [
    "\n",
    "from scipy.integrate import odeint\n",
    "import matplotlib.pyplot as plt \n",
    "\n",
    "θ = np.linspace(θk,θ2k[0],1000)\n",
    "\n",
    "\n"
   ]
  },
  {
   "cell_type": "code",
   "execution_count": 18,
   "id": "656c51d5",
   "metadata": {},
   "outputs": [],
   "source": [
    "#θn=[]\n",
    "\n",
    "#for i in range(len(k)) :\n",
    "    #for n in range(len(θ)) :\n",
    "        #if θ[n,i]>=θk[i]-(np.abs(Θk[i]))+0.1*pi/180: \n",
    "            #θn.append(θ[n,i])\n",
    "   # yyy=list(range(0,len(θn),1))\n",
    "#plt.plot(yyy,θn)"
   ]
  },
  {
   "cell_type": "code",
   "execution_count": 19,
   "id": "c37ed864",
   "metadata": {},
   "outputs": [],
   "source": [
    "#len(θ3)"
   ]
  },
  {
   "cell_type": "code",
   "execution_count": null,
   "id": "3ff19d59",
   "metadata": {},
   "outputs": [],
   "source": []
  },
  {
   "cell_type": "code",
   "execution_count": 20,
   "id": "c537b16a",
   "metadata": {},
   "outputs": [],
   "source": [
    "#Z=[]\n",
    "#if θ>=θk[1]-np.abs(Θk[1])+0.1*pi/180:\n",
    "    #Dθ=(r**2)*(f(r)**0.5)/(R*sin(Φk[1]))\n",
    "    #Z.append(Dθ)\n",
    "#elif θ<=θk[1]+np.abs(Θk[1])+0.1*pi/180:\n",
    "    #Dθ=(r**2)*(f(r)**0.5)/(R*sin(Φk[1]))\n",
    "    #Z.append(Dθ)\n",
    "#else:\n",
    "    #Dθ=0\n",
    "#Z.append(Dθ)\n",
    "#Z\n"
   ]
  },
  {
   "cell_type": "code",
   "execution_count": 21,
   "id": "64feaa9d",
   "metadata": {},
   "outputs": [
    {
     "ename": "IndentationError",
     "evalue": "expected an indented block (Temp/ipykernel_10576/4045863605.py, line 3)",
     "output_type": "error",
     "traceback": [
      "\u001b[1;36m  File \u001b[1;32m\"C:\\Users\\YEVHEN~1\\AppData\\Local\\Temp/ipykernel_10576/4045863605.py\"\u001b[1;36m, line \u001b[1;32m3\u001b[0m\n\u001b[1;33m    drdθ =(r**2)*((1-(Nm*(1-(r/R)**γ)/Nc)-((R**2)/(r**2))*(math.sin(Φk[i]))**2)**0.5)/(R*sin(Φk[i]))\u001b[0m\n\u001b[1;37m    ^\u001b[0m\n\u001b[1;31mIndentationError\u001b[0m\u001b[1;31m:\u001b[0m expected an indented block\n"
     ]
    }
   ],
   "source": [
    "for i in range(len(k)) :         \n",
    "    def model(r,θ):\n",
    "    drdθ =(r**2)*((1-(Nm*(1-(r/R)**γ)/Nc)-((R**2)/(r**2))*(math.sin(Φk[i]))**2)**0.5)/(R*sin(Φk[i]))\n",
    "    return drdθ\n",
    "\n",
    "#for n in range(len(θ0)) :\n",
    "    #if θ0[n]>=θk[0]-(np.abs(Θk[0]))+0.1*pi/180:\n",
    "        #θ00.append(θ0[n])\n",
    "\n",
    "#r= odeint(model,r0,θ011)   \n",
    "#r = [i[0] for i in r]\n",
    "#r\n",
    "#combined1=np.vstack((θ00,r[::])).T\n"
   ]
  },
  {
   "cell_type": "code",
   "execution_count": null,
   "id": "d2a17a58",
   "metadata": {},
   "outputs": [],
   "source": [
    "          \n",
    "def model(r,θ):\n",
    "    drdθ =(r**2)*((1-(Nm*(1-(r/R)**γ)/Nc)-((R**2)/(r**2))*(math.sin(Φk[0]))**2)**0.5)/(R*sin(Φk[0]))\n",
    "    return drdθ\n",
    "r0 = R  \n",
    "θ = np.linspace(θk[0],θ2k[0],1000)\n",
    "θ0=[]\n",
    "for n in range(len(θ)) :\n",
    "        if θ[n]<=θ2k[0]+(np.abs(Θk[0]))-0.1*pi/180:\n",
    "            θ0.append(θ[n])\n",
    "            r= odeint(model,r0,θ0)\n",
    "r = [i[0] for i in r]\n",
    "θ02=θ0\n",
    "combined2=np.vstack((θ0,r[::-1])).T\n"
   ]
  },
  {
   "cell_type": "code",
   "execution_count": null,
   "id": "face9dd4",
   "metadata": {},
   "outputs": [],
   "source": [
    "r=np.concatenate((combined1, combined2 ))\n",
    "#θ=np.concatenate((θ01, θ02))\n",
    "\n",
    "plt.plot(r[:,0],r[:,1])\n",
    "np.savetxt('r(θ)',r)\n",
    "\n"
   ]
  },
  {
   "cell_type": "code",
   "execution_count": null,
   "id": "fff69ecb",
   "metadata": {},
   "outputs": [],
   "source": []
  },
  {
   "cell_type": "code",
   "execution_count": null,
   "id": "9a2f58eb",
   "metadata": {},
   "outputs": [],
   "source": []
  },
  {
   "cell_type": "code",
   "execution_count": null,
   "id": "23b21c1a",
   "metadata": {},
   "outputs": [],
   "source": []
  },
  {
   "cell_type": "code",
   "execution_count": null,
   "id": "c4f9fd3c",
   "metadata": {},
   "outputs": [],
   "source": []
  },
  {
   "cell_type": "code",
   "execution_count": null,
   "id": "1d19bda9",
   "metadata": {},
   "outputs": [],
   "source": []
  },
  {
   "cell_type": "code",
   "execution_count": null,
   "id": "a1f5947e",
   "metadata": {},
   "outputs": [],
   "source": []
  },
  {
   "cell_type": "code",
   "execution_count": null,
   "id": "29d4201d",
   "metadata": {},
   "outputs": [],
   "source": []
  },
  {
   "cell_type": "code",
   "execution_count": null,
   "id": "72ac2d2d",
   "metadata": {},
   "outputs": [],
   "source": []
  },
  {
   "cell_type": "code",
   "execution_count": null,
   "id": "256fd76a",
   "metadata": {},
   "outputs": [],
   "source": []
  },
  {
   "cell_type": "code",
   "execution_count": null,
   "id": "e21ffb01",
   "metadata": {},
   "outputs": [],
   "source": []
  },
  {
   "cell_type": "code",
   "execution_count": null,
   "id": "357abfe7",
   "metadata": {},
   "outputs": [],
   "source": []
  },
  {
   "cell_type": "code",
   "execution_count": null,
   "id": "844a3cdb",
   "metadata": {},
   "outputs": [],
   "source": []
  }
 ],
 "metadata": {
  "kernelspec": {
   "display_name": "Python 3 (ipykernel)",
   "language": "python",
   "name": "python3"
  },
  "language_info": {
   "codemirror_mode": {
    "name": "ipython",
    "version": 3
   },
   "file_extension": ".py",
   "mimetype": "text/x-python",
   "name": "python",
   "nbconvert_exporter": "python",
   "pygments_lexer": "ipython3",
   "version": "3.9.7"
  }
 },
 "nbformat": 4,
 "nbformat_minor": 5
}
