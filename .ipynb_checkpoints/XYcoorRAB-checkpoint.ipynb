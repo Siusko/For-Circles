{
 "cells": [
  {
   "cell_type": "markdown",
   "id": "1be63293",
   "metadata": {},
   "source": [
    "#### Importing Python libraries\n",
    "\n",
    "The next cell activates the Matplotlib plotting library and loads several useful libraries"
   ]
  },
  {
   "cell_type": "code",
   "execution_count": 1,
   "id": "c2e40d04",
   "metadata": {},
   "outputs": [],
   "source": [
    "#  displays plots directly in this notebook as images\n",
    "%matplotlib inline\n",
    "import numpy as np       # the NumPy library for fast matrix and vector data types and math operations\n",
    "from numpy import sqrt, sin, cos, pi,e\n",
    "import matplotlib.pyplot as plt   # functions for plotting, loaded under a convenient name alias 'plt'\n",
    "import scipy\n",
    "from scipy import constants\n",
    "import math\n",
    "import pandas as pd\n"
   ]
  },
  {
   "cell_type": "markdown",
   "id": "1b14caa3",
   "metadata": {},
   "source": [
    "#### CONSTANTS"
   ]
  },
  {
   "cell_type": "code",
   "execution_count": 2,
   "id": "dbd7a772",
   "metadata": {
    "scrolled": true
   },
   "outputs": [],
   "source": [
    "f=37.5*10**9 # частота зондирования\n",
    "R=0.1 # радиус зондируемой плазмы\n",
    "b=2*R # максимальный радиус плазмы\n",
    "pi=constants.pi\n",
    "me=constants.m_e # electron mass\n",
    "c=constants.speed_of_light # speed of light in vacuum\n",
    "e0=constants.epsilon_0 # the electric constant (vacuum permittivity)\n",
    "q=constants.e  # elementary charge\n",
    "γ=2 # некая вспомогательная костанта\n",
    "λ=constants.nu2lambda(f) # перевод частоты в длинну волны \n",
    "ω=f*2*pi # угловая частота\n",
    "Nc=me*(pi**2)*4*(f**2)*e0*(10**-6)/(q**2)\n",
    "Nm=Nc/1.1\n",
    "ωm=math.sqrt(Nm*(q**2)/(me*e0))\n",
    "\n",
    "numbers = [f,R,b,f,me,c,e0,q,γ,λ,ω,Nc,Nm,ωm] # распечатать все константы в столбец (in scientific notation)                                                                                                                                                                                          \n",
    "#for x1 in numbers:                                                                                                                                                                               \n",
    "    #print(\"{:e}\".format(x1))"
   ]
  },
  {
   "cell_type": "markdown",
   "id": "fc9773f7",
   "metadata": {},
   "source": [
    "#### VARIABALES"
   ]
  },
  {
   "cell_type": "code",
   "execution_count": 3,
   "id": "03a7b781",
   "metadata": {},
   "outputs": [],
   "source": [
    "k=list(range(1,13,1)) # создает массив от 1 до 12\n",
    "#k"
   ]
  },
  {
   "cell_type": "code",
   "execution_count": 4,
   "id": "cd599c45",
   "metadata": {},
   "outputs": [
    {
     "data": {
      "text/plain": [
       "[0.017453292519943295,\n",
       " 0.03490658503988659,\n",
       " 0.05235987755982988,\n",
       " 0.06981317007977318,\n",
       " 0.08726646259971647,\n",
       " 0.10471975511965977,\n",
       " 0.12217304763960307,\n",
       " 0.13962634015954636,\n",
       " 0.15707963267948966,\n",
       " 0.17453292519943295,\n",
       " 0.19198621771937624,\n",
       " 0.20943951023931953]"
      ]
     },
     "execution_count": 4,
     "metadata": {},
     "output_type": "execute_result"
    }
   ],
   "source": [
    "α1=[]\n",
    "for n in range(len(k)) : \n",
    "    a1=(n+1)*pi/180\n",
    "    α1.append(a1)\n",
    "α1"
   ]
  },
  {
   "cell_type": "code",
   "execution_count": 5,
   "id": "99a2eeb9",
   "metadata": {},
   "outputs": [
    {
     "data": {
      "text/plain": [
       "[3.106687769837941,\n",
       " 3.0717930934162325,\n",
       " 3.0369188296640357,\n",
       " 3.0020751799370475,\n",
       " 2.967272339610168,\n",
       " 2.932520496074035,\n",
       " 2.8978298267231417,\n",
       " 2.8632104969334735,\n",
       " 2.828672658027625,\n",
       " 2.7942264452254055,\n",
       " 2.759881975577971,\n",
       " 2.725649345883569]"
      ]
     },
     "execution_count": 5,
     "metadata": {},
     "output_type": "execute_result"
    }
   ],
   "source": [
    "α2=[]\n",
    "for n in range(len(k)) : \n",
    "    if b*(math.sin(a1))<R:\n",
    "        a2=(pi-math.asin(b*math.sin((n+1)*pi/180))/R)\n",
    "        α2.append(a2)\n",
    "    elif b<=R:\n",
    "        a2=n*3\n",
    "        α2.append(a2)\n",
    "    else:\n",
    "        a2=n*0\n",
    "        α2.append(a2)\n",
    "α2\n"
   ]
  },
  {
   "cell_type": "code",
   "execution_count": 6,
   "id": "74d307f0",
   "metadata": {},
   "outputs": [],
   "source": [
    "βk=[]\n",
    "for n in range(len(k)) :\n",
    "    β=pi-α1[n]-α2[n]\n",
    "    βk.append(β)\n",
    "#βk"
   ]
  },
  {
   "cell_type": "code",
   "execution_count": 7,
   "id": "f1e769cc",
   "metadata": {},
   "outputs": [],
   "source": [
    "θk=[]\n",
    "for n in range(len(k)) :\n",
    "    θ=pi-βk[n]\n",
    "    θk.append(θ)\n",
    "#θk"
   ]
  },
  {
   "cell_type": "code",
   "execution_count": 8,
   "id": "54edf182",
   "metadata": {},
   "outputs": [],
   "source": [
    "Φk=[]\n",
    "for n in range(len(k)) :\n",
    "    Φ=α1[n]+βk[n]\n",
    "    Φk.append(Φ)\n",
    "#Φk"
   ]
  },
  {
   "cell_type": "code",
   "execution_count": 9,
   "id": "a7ba7788",
   "metadata": {},
   "outputs": [],
   "source": [
    "import sympy\n",
    "from sympy import symbols, solve\n",
    "ak=[]\n",
    "for n in range(len(k)) :\n",
    "    r0 = symbols('r0')\n",
    "    expr = 1-(Nm*(1-(r0/R)**γ)/Nc)-((R**2)/(r0**2))*(math.sin(Φk[n]))**2\n",
    "    sol = solve(expr)\n",
    "    ak.append(sol)\n"
   ]
  },
  {
   "cell_type": "code",
   "execution_count": 10,
   "id": "de8b7bae",
   "metadata": {},
   "outputs": [],
   "source": [
    "ak1=[]\n",
    "for i in range(len(k)) :\n",
    "    ak[i] = [n for n in ak[i] if n.is_real]\n",
    "    ak[i] = [n for n in ak[i] if n.is_positive]\n",
    "    ak1.append(ak[i])"
   ]
  },
  {
   "cell_type": "code",
   "execution_count": 11,
   "id": "438f4903",
   "metadata": {},
   "outputs": [],
   "source": [
    "a = np.array(ak1, dtype=np.float32)\n",
    "#a "
   ]
  },
  {
   "cell_type": "code",
   "execution_count": 12,
   "id": "1654f3f1",
   "metadata": {},
   "outputs": [],
   "source": [
    "r0=R"
   ]
  },
  {
   "cell_type": "code",
   "execution_count": 13,
   "id": "4622ec61",
   "metadata": {},
   "outputs": [],
   "source": [
    "# Задать функцию f(r) \n",
    "fresalts=[]\n",
    "for i in range(len(k)) :\n",
    "    def f(r):\n",
    "        return (1-(Nm*(1-(r/R)**γ)/Nc)-((R**2)/(r**2))*(math.sin(Φk[i]))**2)\n",
    "    fresalts.append(f(i+1))\n",
    "#fresalts"
   ]
  },
  {
   "cell_type": "code",
   "execution_count": 14,
   "id": "396b26ca",
   "metadata": {},
   "outputs": [
    {
     "name": "stderr",
     "output_type": "stream",
     "text": [
      "C:\\Users\\owner\\Anaconda3\\lib\\site-packages\\ipykernel_launcher.py:7: IntegrationWarning: The algorithm does not converge.  Roundoff error is detected\n",
      "  in the extrapolation table.  It is assumed that the requested tolerance\n",
      "  cannot be achieved, and that the returned result (if full_output = 1) is \n",
      "  the best which can be obtained.\n",
      "  import sys\n",
      "C:\\Users\\owner\\Anaconda3\\lib\\site-packages\\scipy\\integrate\\quadpack.py:463: ComplexWarning: Casting complex values to real discards the imaginary part\n",
      "  return _quadpack._qagse(func,a,b,args,full_output,epsabs,epsrel,limit)\n"
     ]
    },
    {
     "data": {
      "text/plain": [
       "[1.2369801787558292,\n",
       " 1.0494685286147523,\n",
       " 0.9458442448178368,\n",
       " 0.8791029503920542,\n",
       " 0.8302790124178001,\n",
       " 0.7910179161158125,\n",
       " 0.7581046320083268,\n",
       " 0.7287561098925585,\n",
       " 0.7020019928235146,\n",
       " 0.6771034162625029,\n",
       " 0.6535834273540952,\n",
       " 0.6311215196460999]"
      ]
     },
     "execution_count": 14,
     "metadata": {},
     "output_type": "execute_result"
    }
   ],
   "source": [
    "#result = integrate.quad(lambda x: x**7, 2, 0), где lambda x по сути dx, x**7 - это подинтегральная функция,\n",
    "#2 - нижний придел, 0 - верхний придел интегрирования, result = integrate.quad - по сути знак интеграла (метод)\n",
    "import scipy.integrate as integrate #вызываем метод интегрирования\n",
    "import scipy.special as special\n",
    "Θk=[]\n",
    "for i in range(len(k)) :\n",
    "    Θ = integrate.quad(lambda r: R*sin(Φk[i])/(r**2*(f(r)**0.5)), a[i], 0.1)\n",
    "    Θk.append(Θ[0]) #вписываем в массив Θk только н1-е корни каждого \n",
    "Θk"
   ]
  },
  {
   "cell_type": "code",
   "execution_count": null,
   "id": "596551d6",
   "metadata": {},
   "outputs": [],
   "source": []
  },
  {
   "cell_type": "code",
   "execution_count": 15,
   "id": "9d59ea26",
   "metadata": {},
   "outputs": [
    {
     "data": {
      "text/plain": [
       "[0.6501807048462256,\n",
       " 1.0077626212266146,\n",
       " 1.1975902175881918,\n",
       " 1.3136824492327124,\n",
       " 1.393980777374284,\n",
       " 1.4552044189620699,\n",
       " 1.5037936103460912,\n",
       " 1.5453246173079032,\n",
       " 1.5817483050600853,\n",
       " 1.6145525378998324,\n",
       " 1.6447013385891567,\n",
       " 1.6728458168306888]"
      ]
     },
     "execution_count": 15,
     "metadata": {},
     "output_type": "execute_result"
    }
   ],
   "source": [
    "θ2k=[]\n",
    "for n in range(len(k)) :\n",
    "    θ2=θk[n]-np.abs(Θk[n]*2)\n",
    "    θ2k.append(θ2)\n",
    "θ2k"
   ]
  },
  {
   "cell_type": "code",
   "execution_count": 16,
   "id": "0194b40e",
   "metadata": {},
   "outputs": [
    {
     "name": "stderr",
     "output_type": "stream",
     "text": [
      "C:\\Users\\owner\\Anaconda3\\lib\\site-packages\\ipykernel_launcher.py:3: RuntimeWarning: invalid value encountered in sqrt\n",
      "  This is separate from the ipykernel package so we can avoid doing imports until\n"
     ]
    },
    {
     "data": {
      "text/plain": [
       "[<matplotlib.lines.Line2D at 0x24172906780>]"
      ]
     },
     "execution_count": 16,
     "metadata": {},
     "output_type": "execute_result"
    },
    {
     "data": {
      "image/png": "[encoded data removed]",
      "text/plain": [
       "<Figure size 432x288 with 1 Axes>"
      ]
     },
     "metadata": {
      "needs_background": "light"
     },
     "output_type": "display_data"
    }
   ],
   "source": [
    "from scipy import integrate as inte\n",
    "def f(t,r):\n",
    "    return (r**2)*((1-(Nm*(1-(r/R)**γ)/Nc)-((R**2)/(r**2))*(math.sin(Φk[4]))**2)**0.5)/(R*sin(Φk[4]))\n",
    "\n",
    "\n",
    "\n",
    "solution = inte.RK45(f, θk[4] , [R] , θ2k[4] ,0.01)\n",
    "#[0.1]=[y0,...] можно задавать нескольно начальных условий\n",
    "# collect data\n",
    "#1-Maximum allowed step size, the step size is not bounded and determined solely by the solve\n",
    "#0.001  относительная точность\n",
    "\n",
    "#тут не указана абсолютная точность. Может быть следующим через запятую.\n",
    "t_values = []\n",
    "y_values = []\n",
    "for i in range(100):\n",
    "    # get solution step state\n",
    "    solution.step()\n",
    "    t_values.append(solution.t)\n",
    "    y_values.append(solution.y[0])\n",
    "    # break loop after modeling is finished\n",
    "    if solution.status == 'finished':\n",
    "        break\n",
    "\n",
    "#print(t_values)\n",
    "#print(y_values)\n",
    "plt.plot(t_values,y_values)\n",
    "\n",
    "\n"
   ]
  },
  {
   "cell_type": "code",
   "execution_count": 17,
   "id": "a1f5947e",
   "metadata": {},
   "outputs": [
    {
     "name": "stderr",
     "output_type": "stream",
     "text": [
      "C:\\Users\\owner\\Anaconda3\\lib\\site-packages\\ipykernel_launcher.py:7: RuntimeWarning: invalid value encountered in sqrt\n",
      "  import sys\n",
      "C:\\Users\\owner\\Anaconda3\\lib\\site-packages\\ipykernel_launcher.py:22: RuntimeWarning: invalid value encountered in sqrt\n",
      "C:\\Users\\owner\\Anaconda3\\lib\\site-packages\\ipykernel_launcher.py:7: RuntimeWarning: invalid value encountered in sqrt\n",
      "  import sys\n",
      "C:\\Users\\owner\\Anaconda3\\lib\\site-packages\\ipykernel_launcher.py:22: RuntimeWarning: invalid value encountered in sqrt\n",
      "C:\\Users\\owner\\Anaconda3\\lib\\site-packages\\ipykernel_launcher.py:7: RuntimeWarning: invalid value encountered in sqrt\n",
      "  import sys\n",
      "C:\\Users\\owner\\Anaconda3\\lib\\site-packages\\ipykernel_launcher.py:22: RuntimeWarning: invalid value encountered in sqrt\n",
      "C:\\Users\\owner\\Anaconda3\\lib\\site-packages\\ipykernel_launcher.py:7: RuntimeWarning: invalid value encountered in sqrt\n",
      "  import sys\n",
      "C:\\Users\\owner\\Anaconda3\\lib\\site-packages\\ipykernel_launcher.py:22: RuntimeWarning: invalid value encountered in sqrt\n",
      "C:\\Users\\owner\\Anaconda3\\lib\\site-packages\\ipykernel_launcher.py:7: RuntimeWarning: invalid value encountered in sqrt\n",
      "  import sys\n",
      "C:\\Users\\owner\\Anaconda3\\lib\\site-packages\\ipykernel_launcher.py:22: RuntimeWarning: invalid value encountered in sqrt\n",
      "C:\\Users\\owner\\Anaconda3\\lib\\site-packages\\ipykernel_launcher.py:7: RuntimeWarning: invalid value encountered in sqrt\n",
      "  import sys\n",
      "C:\\Users\\owner\\Anaconda3\\lib\\site-packages\\ipykernel_launcher.py:22: RuntimeWarning: invalid value encountered in sqrt\n",
      "C:\\Users\\owner\\Anaconda3\\lib\\site-packages\\ipykernel_launcher.py:7: RuntimeWarning: invalid value encountered in sqrt\n",
      "  import sys\n",
      "C:\\Users\\owner\\Anaconda3\\lib\\site-packages\\ipykernel_launcher.py:22: RuntimeWarning: invalid value encountered in sqrt\n",
      "C:\\Users\\owner\\Anaconda3\\lib\\site-packages\\ipykernel_launcher.py:7: RuntimeWarning: invalid value encountered in sqrt\n",
      "  import sys\n",
      "C:\\Users\\owner\\Anaconda3\\lib\\site-packages\\ipykernel_launcher.py:22: RuntimeWarning: invalid value encountered in sqrt\n",
      "C:\\Users\\owner\\Anaconda3\\lib\\site-packages\\ipykernel_launcher.py:7: RuntimeWarning: invalid value encountered in sqrt\n",
      "  import sys\n",
      "C:\\Users\\owner\\Anaconda3\\lib\\site-packages\\ipykernel_launcher.py:22: RuntimeWarning: invalid value encountered in sqrt\n",
      "C:\\Users\\owner\\Anaconda3\\lib\\site-packages\\ipykernel_launcher.py:7: RuntimeWarning: invalid value encountered in sqrt\n",
      "  import sys\n",
      "C:\\Users\\owner\\Anaconda3\\lib\\site-packages\\ipykernel_launcher.py:22: RuntimeWarning: invalid value encountered in sqrt\n",
      "C:\\Users\\owner\\Anaconda3\\lib\\site-packages\\ipykernel_launcher.py:7: RuntimeWarning: invalid value encountered in sqrt\n",
      "  import sys\n",
      "C:\\Users\\owner\\Anaconda3\\lib\\site-packages\\ipykernel_launcher.py:22: RuntimeWarning: invalid value encountered in sqrt\n",
      "C:\\Users\\owner\\Anaconda3\\lib\\site-packages\\ipykernel_launcher.py:7: RuntimeWarning: invalid value encountered in sqrt\n",
      "  import sys\n",
      "C:\\Users\\owner\\Anaconda3\\lib\\site-packages\\ipykernel_launcher.py:22: RuntimeWarning: invalid value encountered in sqrt\n"
     ]
    },
    {
     "data": {
      "text/plain": [
       "[<matplotlib.lines.Line2D at 0x24177dc3e48>]"
      ]
     },
     "execution_count": 17,
     "metadata": {},
     "output_type": "execute_result"
    },
    {
     "data": {
      "image/png": "[encoded data removed]",
      "text/plain": [
       "<Figure size 432x288 with 1 Axes>"
      ]
     },
     "metadata": {
      "needs_background": "light"
     },
     "output_type": "display_data"
    }
   ],
   "source": [
    "from scipy.integrate import odeint\n",
    "\n",
    "number=[0,1,2,3,4,5,6,7,8,9,10,11]\n",
    "\n",
    "for k in range(len(number)) :\n",
    "    def model(r,θ):\n",
    "        drdθ =(r**2)*((1-(Nm*(1-(r/R)**γ)/Nc)-((R**2)/(r**2))*(math.sin(Φk[number[k]]))**2)**0.5)/(R*sin(Φk[number[k]]))\n",
    "        return drdθ\n",
    "    r0 = R  \n",
    "    θ = np.linspace(θk[number[k]],θ2k[number[k]],1000)\n",
    "    θ0=[]\n",
    "    for n in range(len(θ)) :\n",
    "            if θ[n]>=θk[number[k]]-(np.abs(Θk[number[k]]))+0.1*pi/180:\n",
    "                θ0.append(θ[n])\n",
    "                r= odeint(model,r0,θ0)\n",
    "           # else:\n",
    "                #r=0\n",
    "    r = [i[0] for i in r]\n",
    "    combined1=np.vstack((θ0,r[::])).T\n",
    "          \n",
    "    def model(r,θ):\n",
    "        drdθ =(r**2)*((1-(Nm*(1-(r/R)**γ)/Nc)-((R**2)/(r**2))*(math.sin(Φk[number[k]]))**2)**0.5)/(R*sin(Φk[number[k]]))\n",
    "        return drdθ\n",
    "    r0 = R  \n",
    "    θ = np.linspace(θk[number[k]],θ2k[number[k]],1000)\n",
    "    θ0=[]\n",
    "    for n in range(len(θ)) :\n",
    "            if θ[n]<=θ2k[number[k]]+(np.abs(Θk[number[k]]))-0.1*pi/180:\n",
    "                θ0.append(θ[n])\n",
    "                r= odeint(model,r0,θ0)\n",
    "            #else:\n",
    "                #r=0\n",
    "    r = [i[0] for i in r]\n",
    "    combined2=np.vstack((θ0,r[::-1])).T\n",
    "\n",
    "    r=np.concatenate((combined1, combined2 ))\n",
    "#θ=np.concatenate((θ01, θ02))\n",
    "\n",
    "    #plt.plot(r[:,0],r[:,1])\n",
    "    α = np.linspace(0,pi*2,1000)\n",
    "    R1=0.071\n",
    "    x=r[:,1]*cos(r[:,0])\n",
    "    y=r[:,1]*sin(r[:,0])\n",
    "    x2=R*sin(α)\n",
    "    y2=R*cos(α)\n",
    "    x3=R1*sin(α)\n",
    "    y3=R1*cos(α)\n",
    "    plt.plot(x,y)\n",
    "    combined3=np.vstack((x,y)).T\n",
    "    circles=np.vstack((x2,y2,x3,y3)).T\n",
    "    np.savetxt(\"r\"+str(number[k]),combined3)\n",
    "np.savetxt(\"circles\",circles)\n",
    "plt.plot(R*sin(α),R*cos(α))\n",
    "plt.plot(R1*sin(α),R1*cos(α))\n",
    "    \n",
    "    \n",
    "    \n",
    "    \n",
    "    \n",
    "    \n",
    "    \n",
    "    #bbb = pd.read_csv(\"r\"+str(number[k]), delimiter=\" \")\n",
    "    #bbb1 = pd.read_csv(\"r\"+str(1), delimiter=\" \")\n",
    "    #print(bbb)\n",
    "    #bbb.columns = [\"x\"+str(number[k]), \"y\"+str(number[k])]\n",
    "    \n",
    "    #new = pd.concat([bbb, bbb], axis=1)\n",
    "\n",
    "    #aaa= pd.read_csv(\"r\"+str(number[k+1]), delimiter=\" \")\n",
    "    #aaa.columns = [\"x\"+str(number[k+1]), \"y\"+str(number[k+1])]\n",
    "    #new = pd.concat([bbb, aaa], axis=1) \n",
    "    #print(bbb.columns = [\"x\"+str(number[k]), \"y\"+str(number[k])])\n",
    "    #fig = px.line(new, new[\"x10\"],new[\"y10\"])\n",
    "    #fig.show()\n",
    "\n",
    "#np.savetxt(\"circles\",circles)\n",
    "#plt.plot(R*sin(α),R*cos(α))\n",
    "#plt.plot(R1*sin(α),R1*cos(α))\n",
    "    \n",
    "\n",
    "#fig, ax = plt.subplots(subplot_kw={'projection': 'polar'})\n",
    "#ax.plot(r[:,0], r[:,1])\n",
    "#plt.show()\n",
    "         \n",
    "\n"
   ]
  },
  {
   "cell_type": "code",
   "execution_count": null,
   "id": "b0bba301",
   "metadata": {},
   "outputs": [],
   "source": [
    "\n"
   ]
  },
  {
   "cell_type": "code",
   "execution_count": 19,
   "id": "8de4d108",
   "metadata": {},
   "outputs": [
    {
     "name": "stdout",
     "output_type": "stream",
     "text": [
      "[-0.0613770181968197, 0.0613770181968197, -0.0690444665612874*I, 0.0690444665612874*I]\n"
     ]
    },
    {
     "data": {
      "image/png": "[encoded data removed]",
      "text/plain": [
       "<Figure size 432x288 with 1 Axes>"
      ]
     },
     "metadata": {
      "needs_background": "light"
     },
     "output_type": "display_data"
    }
   ],
   "source": [
    "from scipy.integrate import ode\n",
    "#область построения интегральной кривой\n",
    "XLIM=(-4,4)\n",
    "YLIM=(-4,4)\n",
    "#начальные данные\n",
    "x0=1\n",
    "y0=0\n",
    "#правая часть диф. уравнения\n",
    "def f(x,y):\n",
    "    return x+y\n",
    "#x-независимая переменная, y- неизвесные значения\n",
    "#иницилизирование решателя и определения метода интегрирования\n",
    "def dsolve(func,x0,y0):\n",
    "    sol=[[x0],[y0]]\n",
    "    de=ode(func)\n",
    "    #метод интегрирования\n",
    "    de.set_integrator('dopri5')\n",
    "    dt=0.01 #шаг интегрирования\n",
    "\n",
    "#интегрируем вправо от икс 0\n",
    "    de.set_initial_value(y0,x0)\n",
    "    while de.successful() and de.t <= XLIM[1]:\n",
    "        de.integrate(de.t+dt)\n",
    "        sol[0].append(de.t)\n",
    "        sol[1].append(de.y[0])\n",
    "#интегрируем dktdj от икс 0\n",
    "    de.set_initial_value(y0,x0)\n",
    "    while de.successful() and de.t >= XLIM[0]:\n",
    "        de.integrate(de.t-dt)\n",
    "        sol[0].insert(0,de.t)\n",
    "        sol[1].insert(0,de.y[0])\n",
    "    return sol\n",
    "print(sol)\n",
    "        \n",
    "#главная функция вместе с вызовом. Создаем сетку с соотношением по осям 1 к 1\n",
    "def main():\n",
    "    fig=plt.figure()\n",
    "    ax=plt.axes(xlim=XLIM, ylim=YLIM)\n",
    "    ax.set_aspect('equal')\n",
    "    ax.grid()\n",
    "    \n",
    "    #решениезадачи Коши получим вызвав функцию dsolve/\n",
    "    sol=dsolve(f,x0,y0)\n",
    "    \n",
    "    \n",
    "    \n",
    "    ax.plot(*sol,'b')\n",
    "    ax.plot([x0],[y0],'b.')\n",
    "    \n",
    "    plt.show()\n",
    "#вызов\n",
    "if __name__ == \"__main__\":\n",
    "    main()"
   ]
  },
  {
   "cell_type": "code",
   "execution_count": 20,
   "id": "b7b7ef48",
   "metadata": {},
   "outputs": [
    {
     "name": "stderr",
     "output_type": "stream",
     "text": [
      "C:\\Users\\owner\\Anaconda3\\lib\\site-packages\\ipykernel_launcher.py:19: RuntimeWarning: invalid value encountered in sqrt\n",
      "C:\\Users\\owner\\Anaconda3\\lib\\site-packages\\ipykernel_launcher.py:19: RuntimeWarning: invalid value encountered in sqrt\n",
      "C:\\Users\\owner\\Anaconda3\\lib\\site-packages\\ipykernel_launcher.py:19: RuntimeWarning: invalid value encountered in sqrt\n",
      "C:\\Users\\owner\\Anaconda3\\lib\\site-packages\\ipykernel_launcher.py:19: RuntimeWarning: invalid value encountered in sqrt\n",
      "C:\\Users\\owner\\Anaconda3\\lib\\site-packages\\ipykernel_launcher.py:19: RuntimeWarning: invalid value encountered in sqrt\n",
      "C:\\Users\\owner\\Anaconda3\\lib\\site-packages\\ipykernel_launcher.py:19: RuntimeWarning: invalid value encountered in sqrt\n",
      "C:\\Users\\owner\\Anaconda3\\lib\\site-packages\\ipykernel_launcher.py:19: RuntimeWarning: invalid value encountered in sqrt\n",
      "C:\\Users\\owner\\Anaconda3\\lib\\site-packages\\ipykernel_launcher.py:19: RuntimeWarning: invalid value encountered in sqrt\n",
      "C:\\Users\\owner\\Anaconda3\\lib\\site-packages\\ipykernel_launcher.py:19: RuntimeWarning: invalid value encountered in sqrt\n",
      "C:\\Users\\owner\\Anaconda3\\lib\\site-packages\\ipykernel_launcher.py:19: RuntimeWarning: invalid value encountered in sqrt\n"
     ]
    },
    {
     "data": {
      "text/plain": [
       "[<matplotlib.lines.Line2D at 0x24178073c88>]"
      ]
     },
     "execution_count": 20,
     "metadata": {},
     "output_type": "execute_result"
    },
    {
     "data": {
      "image/png": "[encoded data removed]",
      "text/plain": [
       "<Figure size 432x288 with 1 Axes>"
      ]
     },
     "metadata": {
      "needs_background": "light"
     },
     "output_type": "display_data"
    }
   ],
   "source": [
    "from scipy.integrate import odeint\n",
    "from scipy import integrate as inte\n",
    "number=[0,1,2,3,4,5,6,7,8,9,10,11]\n",
    "\n",
    "\n",
    "for k in range(len(number)) :\n",
    "    #θ = np.linspace(θk[number[k]],θ2k[number[k]],1000)\n",
    "    #θk2=[]\n",
    "    #θ2k2=[]\n",
    "    #for n in range(len(θ)) :\n",
    "            #if θ[n]>=θk[number[k]]-(np.abs(Θk[number[k]]))+0.1*pi/180:\n",
    "                #θk2.append(θk[number[k]])\n",
    "                #θ2k2.append(θqqk[number[k]])\n",
    "                \n",
    "    #for n in range(len(θ)) :\n",
    "            #if θ[n]<=θ2k[number[k]]+(np.abs(Θk[number[k]]))-0.1*pi/180:\n",
    "                #θ0.append(θ[n]\n",
    "    def f(t,r):\n",
    "        return (r**2)*((1-(Nm*(1-(r/R)**γ)/Nc)-((R**2)/(r**2))*(math.sin(Φk[number[k]]))**2)**0.5)/(R*sin(Φk[number[k]]))\n",
    "    \n",
    "    solution = inte.RK45(f, θk[number[k]] , [0.1] , θ2k[number[k]] ,0.001)\n",
    "    #scipy.integrate.RK45.dense_output(solution)\n",
    "\n",
    "    t_values = []\n",
    "    y_values = []\n",
    "    for i in range(1000):\n",
    "    # get solution step state\n",
    "        solution.step()\n",
    "        t_values.append(solution.t)\n",
    "        y_values.append(solution.y[number[0]])\n",
    "    # break loop after modeling is finished\n",
    "        if solution.status == 'finished':\n",
    "            break\n",
    "        #print(solution.t)  \n",
    "    \n",
    "    #plt.plot(t_values,y_values)\n",
    "    \n",
    "    α = np.linspace(0,pi*2,1000)\n",
    "    R1=0.071\n",
    "    x=y_values*cos(t_values)\n",
    "    y=y_values*sin(t_values)\n",
    "\n",
    "    x2=R*sin(α)\n",
    "    y2=R*cos(α)\n",
    "    x3=R1*sin(α)\n",
    "    y3=R1*cos(α)\n",
    "    plt.plot(x,y)\n",
    "    combined3=np.vstack((x,y)).T\n",
    "    circles=np.vstack((x2,y2,x3,y3)).T\n",
    "    np.savetxt(\"rr\"+str(number[k]),combined3)\n",
    "np.savetxt(\"circles\",circles)\n",
    "plt.plot(R*sin(α),R*cos(α))\n",
    "plt.plot(R1*sin(α),R1*cos(α))\n",
    "#print(t_values)\n",
    "#print(y_values)\n",
    "     \n",
    "\n",
    "          \n",
    "            #else:\n",
    "                #r=0\n",
    "    #r = [i[0] for i in r]\n",
    "    #combined2=np.vstack((θ0,r[::-1])).T\n",
    "\n",
    "    #r=np.concatenate((combined1, combined2 ))\n",
    "#θ=np.concatenate((θ01, θ02))\n",
    "\n",
    "    #plt.plot(r[:,0],r[:,1])\n",
    "    #α = np.linspace(0,pi*2,1000)\n",
    "    #R1=0.071\n",
    "    #x=r[:,1]*cos(r[:,0])\n",
    "    #y=r[:,1]*sin(r[:,0])\n",
    "    #x2=R*sin(α)\n",
    "    #y2=R*cos(α)\n",
    "    #x3=R1*sin(α)\n",
    "    #y3=R1*cos(α)\n",
    "    #plt.plot(x,y)\n",
    "    #combined3=np.vstack((x,y)).T\n",
    "    #circles=np.vstack((x2,y2,x3,y3)).T\n",
    "    #np.savetxt(\"r\"+str(number[k]),combined3)\n",
    "\n",
    "    #bbb = pd.read_csv(\"r\"+str(number[k]), delimiter=\" \")\n",
    "    #bbb1 = pd.read_csv(\"r\"+str(1), delimiter=\" \")\n",
    "    #print(bbb)\n",
    "    #bbb.columns = [\"x\"+str(number[k]), \"y\"+str(number[k])]\n",
    "    \n",
    "    #new = pd.concat([bbb, bbb], axis=1)\n",
    "\n",
    "    #aaa= pd.read_csv(\"r\"+str(number[k+1]), delimiter=\" \")\n",
    "    #aaa.columns = [\"x\"+str(number[k+1]), \"y\"+str(number[k+1])]\n",
    "    #new = pd.concat([bbb, aaa], axis=1) \n",
    "    #print(bbb.columns = [\"x\"+str(number[k]), \"y\"+str(number[k])])\n",
    "    #fig = px.line(new, new[\"x10\"],new[\"y10\"])\n",
    "    #fig.show()\n",
    "\n",
    "#p.savetxt(\"circles\",circles)\n",
    "#lt.plot(R*sin(α),R*cos(α))\n",
    "#lt.plot(R1*sin(α),R1*cos(α))\n",
    "    \n",
    "\n",
    "    #fig, ax = plt.subplots(subplot_kw={'projection': 'polar'})\n",
    "    #ax.plot(r[:,0], r[:,1])\n",
    "    #plt.show()\n",
    "         "
   ]
  },
  {
   "cell_type": "code",
   "execution_count": null,
   "id": "cf6dc539",
   "metadata": {},
   "outputs": [],
   "source": []
  },
  {
   "cell_type": "code",
   "execution_count": null,
   "id": "b2efbe13",
   "metadata": {},
   "outputs": [],
   "source": []
  },
  {
   "cell_type": "code",
   "execution_count": null,
   "id": "07f75069",
   "metadata": {},
   "outputs": [],
   "source": []
  },
  {
   "cell_type": "code",
   "execution_count": null,
   "id": "0e3ab1ac",
   "metadata": {},
   "outputs": [],
   "source": []
  },
  {
   "cell_type": "code",
   "execution_count": null,
   "id": "08ee4bf5",
   "metadata": {},
   "outputs": [],
   "source": [
    "\n"
   ]
  },
  {
   "cell_type": "markdown",
   "id": "3f8f5a94",
   "metadata": {},
   "source": []
  },
  {
   "cell_type": "code",
   "execution_count": null,
   "id": "a449685c",
   "metadata": {},
   "outputs": [],
   "source": []
  },
  {
   "cell_type": "code",
   "execution_count": null,
   "id": "eaab73d5",
   "metadata": {},
   "outputs": [],
   "source": []
  }
 ],
 "metadata": {
  "kernelspec": {
   "display_name": "Python 3 (ipykernel)",
   "language": "python",
   "name": "python3"
  },
  "language_info": {
   "codemirror_mode": {
    "name": "ipython",
    "version": 3
   },
   "file_extension": ".py",
   "mimetype": "text/x-python",
   "name": "python",
   "nbconvert_exporter": "python",
   "pygments_lexer": "ipython3",
   "version": "3.7.3"
  }
 },
 "nbformat": 4,
 "nbformat_minor": 5
}
